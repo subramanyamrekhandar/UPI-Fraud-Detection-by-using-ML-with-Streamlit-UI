{
  "cells": [
    {
      "cell_type": "markdown",
      "metadata": {
        "id": "SOKJrfLGu7nz"
      },
      "source": [
        "# Project Title: UPI Fraud Detection using Machine Learning\n",
        "\n",
        "## Introduction\n",
        "\n",
        "Welcome to the project on UPI fraud detection using machine learning! In this project, we aim to develop machine learning models to detect fraudulent transactions in UPI (Unified Payments Interface) data.\n",
        "\n",
        "## Project Information\n",
        "\n",
        "\n",
        "\n",
        "### Data Source:\n",
        "The dataset used in this project is a synthetically created dataset containing 50,000 rows of UPI transaction data. It has been modified to include variability and patterns for fraud detection purposes.\n",
        "\n",
        "\n",
        "## About the Dataset\n",
        "The dataset contains transaction data related to UPI (Unified Payments Interface) transactions. It includes various features related to transactions and fraud indicators. It includes the data for fraudulent transactions for financial year 2023 to 2024.\n",
        "\n",
        "### Features:\n",
        "- Transaction_ID: Unique identifier for each transaction.\n",
        "- Date: Date of the transaction.\n",
        "- Time: Time of the transaction.\n",
        "- Merchant_ID: Unique identifier for the merchant involved in the transaction.\n",
        "- Customer_ID: Unique identifier for the customer involved in the transaction.\n",
        "- Device_ID: Unique identifier for the device used for the transaction.\n",
        "- Transaction_Type: Type of transaction (e.g., payment, transfer, etc.).\n",
        "- Payment_Gateway: Payment gateway used for the transaction.\n",
        "- Transaction_City: City where the transaction took place.\n",
        "- Transaction_State: State where the transaction took place.\n",
        "- IP_Address: IP address associated with the transaction.\n",
        "- Transaction_Status: Status of the transaction (e.g., success, failure, etc.).\n",
        "- Device_OS: Operating system of the device used for the transaction.\n",
        "- Transaction_Frequency: Frequency of transactions for the customer.\n",
        "- Merchant_Category: Category of the merchant involved in the transaction.\n",
        "- Transaction_Channel: Channel used for the transaction (e.g., mobile app, website, etc.).\n",
        "- Transaction_Amount_Deviation: Deviation of the transaction amount from the average transaction amount.\n",
        "- Days_Since_Last_Transaction: Number of days since the last transaction.\n",
        "- Amount: Transaction amount.\n",
        "- Fraud: Indicates whether the transaction is fraudulent (1) or not (0).\n",
        "\n",
        "## Methodology\n",
        "1. Data Preprocessing: Cleaning the data, handling missing values, encoding categorical features, and scaling numerical features.\n",
        "2. Exploratory Data Analysis: Understanding the distribution of features and identifying patterns related to fraud.\n",
        "3. Feature Engineering: Creating new features or transforming existing ones to improve model performance.\n",
        "4. Model Development: Training machine learning models for fraud detection.\n",
        "5. Model Evaluation: Assessing model performance using metrics such as accuracy, precision, recall, and F1-score.\n",
        "6. Conclusion: Summarizing findings and discussing potential areas for improvement.\n",
        "\n",
        "Let's dive into the project and start exploring the data!"
      ]
    },
    {
      "cell_type": "code",
      "execution_count": 51,
      "metadata": {
        "id": "ML8GcIZRu7n1"
      },
      "outputs": [],
      "source": [
        "# Importing Libaries\n",
        "\n",
        "# import pyforest\n",
        "import pandas as pd\n",
        "import numpy as np\n",
        "import matplotlib.pyplot as plt\n",
        "import seaborn as sns\n",
        "import warnings\n",
        "warnings.filterwarnings('ignore')"
      ]
    },
    {
      "cell_type": "code",
      "execution_count": 52,
      "metadata": {
        "colab": {
          "base_uri": "https://localhost:8080/"
        },
        "id": "egViyfoFvRl2",
        "outputId": "d9f9da47-0aeb-4e26-bc69-20b10f1b0c80"
      },
      "outputs": [],
      "source": [
        "# #mount google drive\n",
        "# from google.colab import drive\n",
        "# drive.mount('/content/drive')"
      ]
    },
    {
      "cell_type": "code",
      "execution_count": 53,
      "metadata": {
        "id": "BAx-UcURu7n3"
      },
      "outputs": [],
      "source": [
        "# Load dataset\n",
        "df =pd.read_csv(\"/Users/anujrastogi/Library/CloudStorage/OneDrive-Personal/Desktop/Assignments & Projects/Capstone Project UPI Faud Detection/UPI Latest data.csv\")"
      ]
    },
    {
      "cell_type": "code",
      "execution_count": 54,
      "metadata": {
        "colab": {
          "base_uri": "https://localhost:8080/"
        },
        "id": "0p-zYM1vu7n3",
        "outputId": "e16b1174-4b4d-46a5-cb4a-deb031f9bb83"
      },
      "outputs": [
        {
          "name": "stdout",
          "output_type": "stream",
          "text": [
            "<class 'pandas.core.frame.DataFrame'>\n",
            "RangeIndex: 50000 entries, 0 to 49999\n",
            "Data columns (total 20 columns):\n",
            " #   Column                        Non-Null Count  Dtype  \n",
            "---  ------                        --------------  -----  \n",
            " 0   Transaction_ID                50000 non-null  object \n",
            " 1   Date                          50000 non-null  object \n",
            " 2   Time                          50000 non-null  object \n",
            " 3   Merchant_ID                   50000 non-null  object \n",
            " 4   Customer_ID                   50000 non-null  object \n",
            " 5   Device_ID                     50000 non-null  object \n",
            " 6   Transaction_Type              50000 non-null  object \n",
            " 7   Payment_Gateway               50000 non-null  object \n",
            " 8   Transaction_City              50000 non-null  object \n",
            " 9   Transaction_State             50000 non-null  object \n",
            " 10  IP_Address                    50000 non-null  object \n",
            " 11  Transaction_Status            50000 non-null  object \n",
            " 12  Device_OS                     50000 non-null  object \n",
            " 13  Transaction_Frequency         50000 non-null  int64  \n",
            " 14  Merchant_Category             50000 non-null  object \n",
            " 15  Transaction_Channel           50000 non-null  object \n",
            " 16  Transaction_Amount_Deviation  50000 non-null  float64\n",
            " 17  Days_Since_Last_Transaction   50000 non-null  int64  \n",
            " 18  amount                        50000 non-null  float64\n",
            " 19  fraud                         50000 non-null  int64  \n",
            "dtypes: float64(2), int64(3), object(15)\n",
            "memory usage: 7.6+ MB\n"
          ]
        }
      ],
      "source": [
        "df.info()"
      ]
    },
    {
      "cell_type": "code",
      "execution_count": 55,
      "metadata": {
        "colab": {
          "base_uri": "https://localhost:8080/"
        },
        "id": "tquojG9Cu7n4",
        "outputId": "030cea80-d6bb-42c4-c2a4-5ca8989a1c02"
      },
      "outputs": [
        {
          "data": {
            "text/plain": [
              "(50000, 20)"
            ]
          },
          "execution_count": 55,
          "metadata": {},
          "output_type": "execute_result"
        }
      ],
      "source": [
        "df.shape"
      ]
    },
    {
      "cell_type": "code",
      "execution_count": 56,
      "metadata": {
        "colab": {
          "base_uri": "https://localhost:8080/",
          "height": 468
        },
        "id": "LeIGuFFFu7n4",
        "outputId": "4f3a8892-7844-4c48-9444-4bea01ee27ec"
      },
      "outputs": [
        {
          "data": {
            "text/html": [
              "<div>\n",
              "<style scoped>\n",
              "    .dataframe tbody tr th:only-of-type {\n",
              "        vertical-align: middle;\n",
              "    }\n",
              "\n",
              "    .dataframe tbody tr th {\n",
              "        vertical-align: top;\n",
              "    }\n",
              "\n",
              "    .dataframe thead th {\n",
              "        text-align: right;\n",
              "    }\n",
              "</style>\n",
              "<table border=\"1\" class=\"dataframe\">\n",
              "  <thead>\n",
              "    <tr style=\"text-align: right;\">\n",
              "      <th></th>\n",
              "      <th>Transaction_ID</th>\n",
              "      <th>Date</th>\n",
              "      <th>Time</th>\n",
              "      <th>Merchant_ID</th>\n",
              "      <th>Customer_ID</th>\n",
              "      <th>Device_ID</th>\n",
              "      <th>Transaction_Type</th>\n",
              "      <th>Payment_Gateway</th>\n",
              "      <th>Transaction_City</th>\n",
              "      <th>Transaction_State</th>\n",
              "      <th>IP_Address</th>\n",
              "      <th>Transaction_Status</th>\n",
              "      <th>Device_OS</th>\n",
              "      <th>Transaction_Frequency</th>\n",
              "      <th>Merchant_Category</th>\n",
              "      <th>Transaction_Channel</th>\n",
              "      <th>Transaction_Amount_Deviation</th>\n",
              "      <th>Days_Since_Last_Transaction</th>\n",
              "      <th>amount</th>\n",
              "      <th>fraud</th>\n",
              "    </tr>\n",
              "  </thead>\n",
              "  <tbody>\n",
              "    <tr>\n",
              "      <th>0</th>\n",
              "      <td>T00000001</td>\n",
              "      <td>23/10/23</td>\n",
              "      <td>4:36:16 AM</td>\n",
              "      <td>8bbd74bb-c7ab-4d9a-8cae-29bf6777bba4</td>\n",
              "      <td>bbd15462-34e8-4d84-b38d-c0a48ca151a5</td>\n",
              "      <td>35c93295-5585-40ec-9ba8-2ff3a3ed9246</td>\n",
              "      <td>Purchase</td>\n",
              "      <td>ICICI UPI</td>\n",
              "      <td>Mango</td>\n",
              "      <td>Uttarakhand</td>\n",
              "      <td>72.74.226.105</td>\n",
              "      <td>Pending</td>\n",
              "      <td>Windows</td>\n",
              "      <td>2</td>\n",
              "      <td>Travel bookings</td>\n",
              "      <td>Online</td>\n",
              "      <td>68.25</td>\n",
              "      <td>24</td>\n",
              "      <td>4.55</td>\n",
              "      <td>0</td>\n",
              "    </tr>\n",
              "    <tr>\n",
              "      <th>1</th>\n",
              "      <td>T00000002</td>\n",
              "      <td>31/05/23</td>\n",
              "      <td>4:36:16 AM</td>\n",
              "      <td>1f0efdbe-f18c-4668-aba3-b7674d5e0100</td>\n",
              "      <td>d93133d4-b039-4d19-8060-b8b3d8de4c0d</td>\n",
              "      <td>8e40bf94-19f0-4a27-a154-05ebfd14c5aa</td>\n",
              "      <td>Bank Transfer</td>\n",
              "      <td>HDFC</td>\n",
              "      <td>Gorakhpur</td>\n",
              "      <td>Himachal Pradesh</td>\n",
              "      <td>111.214.109.143</td>\n",
              "      <td>Pending</td>\n",
              "      <td>Windows</td>\n",
              "      <td>2</td>\n",
              "      <td>Financial services and Taxes</td>\n",
              "      <td>Mobile</td>\n",
              "      <td>-57.75</td>\n",
              "      <td>17</td>\n",
              "      <td>39.68</td>\n",
              "      <td>0</td>\n",
              "    </tr>\n",
              "    <tr>\n",
              "      <th>2</th>\n",
              "      <td>T00000003</td>\n",
              "      <td>19/01/24</td>\n",
              "      <td>4:36:16 AM</td>\n",
              "      <td>fb552d01-e704-440e-b29b-6c152ed37998</td>\n",
              "      <td>8d610bff-9b2b-41d5-86f7-df78c5aee909</td>\n",
              "      <td>b8f5781f-2b91-4c41-a1bf-25d69ba32ec1</td>\n",
              "      <td>Bill Payment</td>\n",
              "      <td>CRED</td>\n",
              "      <td>Khammam</td>\n",
              "      <td>Andhra Pradesh</td>\n",
              "      <td>111.0.26.121</td>\n",
              "      <td>Pending</td>\n",
              "      <td>Android</td>\n",
              "      <td>3</td>\n",
              "      <td>Financial services and Taxes</td>\n",
              "      <td>In-store</td>\n",
              "      <td>-46.95</td>\n",
              "      <td>20</td>\n",
              "      <td>26.89</td>\n",
              "      <td>0</td>\n",
              "    </tr>\n",
              "    <tr>\n",
              "      <th>3</th>\n",
              "      <td>T00000004</td>\n",
              "      <td>18/09/23</td>\n",
              "      <td>5:07:24 AM</td>\n",
              "      <td>43001ee3-c6ca-4033-89e9-9502b3072bb7</td>\n",
              "      <td>63d01a4c-3e68-49c6-a54c-e7ea14cfba44</td>\n",
              "      <td>725a2ef7-5e4b-4a20-b486-a647d9005cdf</td>\n",
              "      <td>Other</td>\n",
              "      <td>HDFC</td>\n",
              "      <td>Nanded</td>\n",
              "      <td>Odisha</td>\n",
              "      <td>166.88.212.66</td>\n",
              "      <td>Completed</td>\n",
              "      <td>iOS</td>\n",
              "      <td>0</td>\n",
              "      <td>Utilities</td>\n",
              "      <td>Mobile</td>\n",
              "      <td>-96.64</td>\n",
              "      <td>18</td>\n",
              "      <td>17.25</td>\n",
              "      <td>0</td>\n",
              "    </tr>\n",
              "    <tr>\n",
              "      <th>4</th>\n",
              "      <td>T00000005</td>\n",
              "      <td>18/08/23</td>\n",
              "      <td>12:16:28 PM</td>\n",
              "      <td>df1c84af-fa42-4ce7-99ea-5a9fd657361e</td>\n",
              "      <td>4c2613de-9129-4ab2-a2b4-dd6e008a487d</td>\n",
              "      <td>10dfb43d-6fb5-4e9f-9159-ffaf691b67c5</td>\n",
              "      <td>Other</td>\n",
              "      <td>HDFC</td>\n",
              "      <td>Machilipatnam</td>\n",
              "      <td>West Bengal</td>\n",
              "      <td>20.34.147.155</td>\n",
              "      <td>Failed</td>\n",
              "      <td>Windows</td>\n",
              "      <td>2</td>\n",
              "      <td>Other</td>\n",
              "      <td>Online</td>\n",
              "      <td>36.14</td>\n",
              "      <td>5</td>\n",
              "      <td>35.72</td>\n",
              "      <td>0</td>\n",
              "    </tr>\n",
              "  </tbody>\n",
              "</table>\n",
              "</div>"
            ],
            "text/plain": [
              "  Transaction_ID      Date         Time                           Merchant_ID  \\\n",
              "0      T00000001  23/10/23   4:36:16 AM  8bbd74bb-c7ab-4d9a-8cae-29bf6777bba4   \n",
              "1      T00000002  31/05/23   4:36:16 AM  1f0efdbe-f18c-4668-aba3-b7674d5e0100   \n",
              "2      T00000003  19/01/24   4:36:16 AM  fb552d01-e704-440e-b29b-6c152ed37998   \n",
              "3      T00000004  18/09/23   5:07:24 AM  43001ee3-c6ca-4033-89e9-9502b3072bb7   \n",
              "4      T00000005  18/08/23  12:16:28 PM  df1c84af-fa42-4ce7-99ea-5a9fd657361e   \n",
              "\n",
              "                            Customer_ID                             Device_ID  \\\n",
              "0  bbd15462-34e8-4d84-b38d-c0a48ca151a5  35c93295-5585-40ec-9ba8-2ff3a3ed9246   \n",
              "1  d93133d4-b039-4d19-8060-b8b3d8de4c0d  8e40bf94-19f0-4a27-a154-05ebfd14c5aa   \n",
              "2  8d610bff-9b2b-41d5-86f7-df78c5aee909  b8f5781f-2b91-4c41-a1bf-25d69ba32ec1   \n",
              "3  63d01a4c-3e68-49c6-a54c-e7ea14cfba44  725a2ef7-5e4b-4a20-b486-a647d9005cdf   \n",
              "4  4c2613de-9129-4ab2-a2b4-dd6e008a487d  10dfb43d-6fb5-4e9f-9159-ffaf691b67c5   \n",
              "\n",
              "  Transaction_Type Payment_Gateway Transaction_City Transaction_State  \\\n",
              "0         Purchase       ICICI UPI            Mango       Uttarakhand   \n",
              "1    Bank Transfer            HDFC        Gorakhpur  Himachal Pradesh   \n",
              "2     Bill Payment            CRED          Khammam    Andhra Pradesh   \n",
              "3            Other            HDFC           Nanded            Odisha   \n",
              "4            Other            HDFC    Machilipatnam       West Bengal   \n",
              "\n",
              "        IP_Address Transaction_Status Device_OS  Transaction_Frequency  \\\n",
              "0    72.74.226.105            Pending   Windows                      2   \n",
              "1  111.214.109.143            Pending   Windows                      2   \n",
              "2     111.0.26.121            Pending   Android                      3   \n",
              "3    166.88.212.66          Completed       iOS                      0   \n",
              "4    20.34.147.155             Failed   Windows                      2   \n",
              "\n",
              "              Merchant_Category Transaction_Channel  \\\n",
              "0               Travel bookings              Online   \n",
              "1  Financial services and Taxes              Mobile   \n",
              "2  Financial services and Taxes            In-store   \n",
              "3                     Utilities              Mobile   \n",
              "4                         Other              Online   \n",
              "\n",
              "   Transaction_Amount_Deviation  Days_Since_Last_Transaction  amount  fraud  \n",
              "0                         68.25                           24    4.55      0  \n",
              "1                        -57.75                           17   39.68      0  \n",
              "2                        -46.95                           20   26.89      0  \n",
              "3                        -96.64                           18   17.25      0  \n",
              "4                         36.14                            5   35.72      0  "
            ]
          },
          "execution_count": 56,
          "metadata": {},
          "output_type": "execute_result"
        }
      ],
      "source": [
        "df.head()"
      ]
    },
    {
      "cell_type": "markdown",
      "metadata": {
        "id": "Qol9-KDBu7n5"
      },
      "source": [
        "### DATA PREPARATION"
      ]
    },
    {
      "cell_type": "code",
      "execution_count": 57,
      "metadata": {
        "colab": {
          "base_uri": "https://localhost:8080/"
        },
        "id": "BQ_FlFVsu7n6",
        "outputId": "aeccfc8d-c4e2-4bcf-b01d-09663b301fa7"
      },
      "outputs": [
        {
          "data": {
            "text/plain": [
              "0"
            ]
          },
          "execution_count": 57,
          "metadata": {},
          "output_type": "execute_result"
        }
      ],
      "source": [
        "# Check for duplicates\n",
        "df.duplicated().sum()"
      ]
    },
    {
      "cell_type": "code",
      "execution_count": 58,
      "metadata": {
        "colab": {
          "base_uri": "https://localhost:8080/"
        },
        "id": "SrposcRdu7n6",
        "outputId": "4dcb24d8-fa05-4bc4-8462-13e851e18e68"
      },
      "outputs": [
        {
          "data": {
            "text/plain": [
              "Transaction_ID                  0\n",
              "Date                            0\n",
              "Time                            0\n",
              "Merchant_ID                     0\n",
              "Customer_ID                     0\n",
              "Device_ID                       0\n",
              "Transaction_Type                0\n",
              "Payment_Gateway                 0\n",
              "Transaction_City                0\n",
              "Transaction_State               0\n",
              "IP_Address                      0\n",
              "Transaction_Status              0\n",
              "Device_OS                       0\n",
              "Transaction_Frequency           0\n",
              "Merchant_Category               0\n",
              "Transaction_Channel             0\n",
              "Transaction_Amount_Deviation    0\n",
              "Days_Since_Last_Transaction     0\n",
              "amount                          0\n",
              "fraud                           0\n",
              "dtype: int64"
            ]
          },
          "execution_count": 58,
          "metadata": {},
          "output_type": "execute_result"
        }
      ],
      "source": [
        "# Check missing values\n",
        "df.isnull().sum()"
      ]
    },
    {
      "cell_type": "code",
      "execution_count": 59,
      "metadata": {
        "colab": {
          "base_uri": "https://localhost:8080/"
        },
        "id": "VN6utcD1u7n7",
        "outputId": "c8c11dfc-86c7-491c-bb49-99a0479f28a1"
      },
      "outputs": [
        {
          "data": {
            "text/plain": [
              "Transaction_ID                  50000\n",
              "Date                              367\n",
              "Time                            29624\n",
              "Merchant_ID                     50000\n",
              "Customer_ID                     50000\n",
              "Device_ID                       50000\n",
              "Transaction_Type                    7\n",
              "Payment_Gateway                     9\n",
              "Transaction_City                  316\n",
              "Transaction_State                  28\n",
              "IP_Address                      50000\n",
              "Transaction_Status                  3\n",
              "Device_OS                           4\n",
              "Transaction_Frequency              20\n",
              "Merchant_Category                  10\n",
              "Transaction_Channel                 3\n",
              "Transaction_Amount_Deviation    18417\n",
              "Days_Since_Last_Transaction        29\n",
              "amount                           9766\n",
              "fraud                               2\n",
              "dtype: int64"
            ]
          },
          "execution_count": 59,
          "metadata": {},
          "output_type": "execute_result"
        }
      ],
      "source": [
        "# Check unique values\n",
        "df.nunique()"
      ]
    },
    {
      "cell_type": "code",
      "execution_count": 60,
      "metadata": {
        "colab": {
          "base_uri": "https://localhost:8080/"
        },
        "id": "GSlWXAq7u7n7",
        "outputId": "29b06e73-12d2-424a-dd19-2212539861e8"
      },
      "outputs": [
        {
          "name": "stdout",
          "output_type": "stream",
          "text": [
            "Unique columns with unique values:\n",
            "Index(['Transaction_ID', 'Merchant_ID', 'Customer_ID', 'Device_ID',\n",
            "       'IP_Address'],\n",
            "      dtype='object')\n"
          ]
        }
      ],
      "source": [
        "# Find unique columns with unique values\n",
        "unique_columns = df.columns[df.nunique() == len(df)]\n",
        "print(\"Unique columns with unique values:\")\n",
        "print(unique_columns)"
      ]
    },
    {
      "cell_type": "code",
      "execution_count": 61,
      "metadata": {
        "id": "q4zGF0NXu7n7"
      },
      "outputs": [],
      "source": [
        "# Droping ID columns as they do not add any value to the analysis\n",
        "df.drop(columns=['Transaction_ID', 'Merchant_ID', 'Customer_ID', 'Device_ID','IP_Address'], axis=1, inplace=True)"
      ]
    },
    {
      "cell_type": "markdown",
      "metadata": {
        "id": "FCbHQjVJu7n7"
      },
      "source": [
        "### Data Cleaning and Feature Engineering"
      ]
    },
    {
      "cell_type": "code",
      "execution_count": 62,
      "metadata": {
        "colab": {
          "base_uri": "https://localhost:8080/"
        },
        "id": "PWgq2jcsu7n8",
        "outputId": "0a615187-a9e8-430a-c2de-c7386bb94458"
      },
      "outputs": [
        {
          "data": {
            "text/plain": [
              "0    23/10/23\n",
              "1    31/05/23\n",
              "2    19/01/24\n",
              "3    18/09/23\n",
              "4    18/08/23\n",
              "Name: Date, dtype: object"
            ]
          },
          "execution_count": 62,
          "metadata": {},
          "output_type": "execute_result"
        }
      ],
      "source": [
        "# Date column\n",
        "df['Date'].head()"
      ]
    },
    {
      "cell_type": "code",
      "execution_count": 63,
      "metadata": {
        "id": "GWjBrE2wu7n8"
      },
      "outputs": [],
      "source": [
        "# Converting Date column to datetime\n",
        "df['Date']=pd.to_datetime(df['Date'],format='%d/%m/%y')"
      ]
    },
    {
      "cell_type": "code",
      "execution_count": 64,
      "metadata": {
        "id": "JHY31-FLu7n8"
      },
      "outputs": [],
      "source": [
        "# Extracting year from date\n",
        "df['Year'] = df['Date'].dt.year"
      ]
    },
    {
      "cell_type": "code",
      "execution_count": 65,
      "metadata": {
        "id": "kP4qVjrJu7n8"
      },
      "outputs": [],
      "source": [
        "# Extracting month from date\n",
        "df['Month']= df['Date'].dt.month\n",
        "\n",
        "# Now month needs to be in MMM format"
      ]
    },
    {
      "cell_type": "code",
      "execution_count": 66,
      "metadata": {
        "colab": {
          "base_uri": "https://localhost:8080/"
        },
        "id": "ECXwBbrXu7n8",
        "outputId": "90e86776-f430-40ef-8a94-e434e86f557f"
      },
      "outputs": [
        {
          "data": {
            "text/plain": [
              "Index(['Date', 'Time', 'Transaction_Type', 'Payment_Gateway',\n",
              "       'Transaction_City', 'Transaction_State', 'Transaction_Status',\n",
              "       'Device_OS', 'Transaction_Frequency', 'Merchant_Category',\n",
              "       'Transaction_Channel', 'Transaction_Amount_Deviation',\n",
              "       'Days_Since_Last_Transaction', 'amount', 'fraud', 'Year', 'Month'],\n",
              "      dtype='object')"
            ]
          },
          "execution_count": 66,
          "metadata": {},
          "output_type": "execute_result"
        }
      ],
      "source": [
        "# Checking columns\n",
        "df.columns"
      ]
    },
    {
      "cell_type": "code",
      "execution_count": 67,
      "metadata": {
        "colab": {
          "base_uri": "https://localhost:8080/",
          "height": 303
        },
        "id": "7Yh8MioPu7n8",
        "outputId": "8544f40d-e383-49be-d60f-0d99c7e5f5df"
      },
      "outputs": [
        {
          "data": {
            "text/html": [
              "<div>\n",
              "<style scoped>\n",
              "    .dataframe tbody tr th:only-of-type {\n",
              "        vertical-align: middle;\n",
              "    }\n",
              "\n",
              "    .dataframe tbody tr th {\n",
              "        vertical-align: top;\n",
              "    }\n",
              "\n",
              "    .dataframe thead th {\n",
              "        text-align: right;\n",
              "    }\n",
              "</style>\n",
              "<table border=\"1\" class=\"dataframe\">\n",
              "  <thead>\n",
              "    <tr style=\"text-align: right;\">\n",
              "      <th></th>\n",
              "      <th>Date</th>\n",
              "      <th>Time</th>\n",
              "      <th>Transaction_Type</th>\n",
              "      <th>Payment_Gateway</th>\n",
              "      <th>Transaction_City</th>\n",
              "      <th>Transaction_State</th>\n",
              "      <th>Transaction_Status</th>\n",
              "      <th>Device_OS</th>\n",
              "      <th>Transaction_Frequency</th>\n",
              "      <th>Merchant_Category</th>\n",
              "      <th>Transaction_Channel</th>\n",
              "      <th>Transaction_Amount_Deviation</th>\n",
              "      <th>Days_Since_Last_Transaction</th>\n",
              "      <th>amount</th>\n",
              "      <th>fraud</th>\n",
              "      <th>Year</th>\n",
              "      <th>Month</th>\n",
              "    </tr>\n",
              "  </thead>\n",
              "  <tbody>\n",
              "    <tr>\n",
              "      <th>0</th>\n",
              "      <td>2023-10-23</td>\n",
              "      <td>4:36:16 AM</td>\n",
              "      <td>Purchase</td>\n",
              "      <td>ICICI UPI</td>\n",
              "      <td>Mango</td>\n",
              "      <td>Uttarakhand</td>\n",
              "      <td>Pending</td>\n",
              "      <td>Windows</td>\n",
              "      <td>2</td>\n",
              "      <td>Travel bookings</td>\n",
              "      <td>Online</td>\n",
              "      <td>68.25</td>\n",
              "      <td>24</td>\n",
              "      <td>4.55</td>\n",
              "      <td>0</td>\n",
              "      <td>2023</td>\n",
              "      <td>10</td>\n",
              "    </tr>\n",
              "    <tr>\n",
              "      <th>1</th>\n",
              "      <td>2023-05-31</td>\n",
              "      <td>4:36:16 AM</td>\n",
              "      <td>Bank Transfer</td>\n",
              "      <td>HDFC</td>\n",
              "      <td>Gorakhpur</td>\n",
              "      <td>Himachal Pradesh</td>\n",
              "      <td>Pending</td>\n",
              "      <td>Windows</td>\n",
              "      <td>2</td>\n",
              "      <td>Financial services and Taxes</td>\n",
              "      <td>Mobile</td>\n",
              "      <td>-57.75</td>\n",
              "      <td>17</td>\n",
              "      <td>39.68</td>\n",
              "      <td>0</td>\n",
              "      <td>2023</td>\n",
              "      <td>5</td>\n",
              "    </tr>\n",
              "    <tr>\n",
              "      <th>2</th>\n",
              "      <td>2024-01-19</td>\n",
              "      <td>4:36:16 AM</td>\n",
              "      <td>Bill Payment</td>\n",
              "      <td>CRED</td>\n",
              "      <td>Khammam</td>\n",
              "      <td>Andhra Pradesh</td>\n",
              "      <td>Pending</td>\n",
              "      <td>Android</td>\n",
              "      <td>3</td>\n",
              "      <td>Financial services and Taxes</td>\n",
              "      <td>In-store</td>\n",
              "      <td>-46.95</td>\n",
              "      <td>20</td>\n",
              "      <td>26.89</td>\n",
              "      <td>0</td>\n",
              "      <td>2024</td>\n",
              "      <td>1</td>\n",
              "    </tr>\n",
              "    <tr>\n",
              "      <th>3</th>\n",
              "      <td>2023-09-18</td>\n",
              "      <td>5:07:24 AM</td>\n",
              "      <td>Other</td>\n",
              "      <td>HDFC</td>\n",
              "      <td>Nanded</td>\n",
              "      <td>Odisha</td>\n",
              "      <td>Completed</td>\n",
              "      <td>iOS</td>\n",
              "      <td>0</td>\n",
              "      <td>Utilities</td>\n",
              "      <td>Mobile</td>\n",
              "      <td>-96.64</td>\n",
              "      <td>18</td>\n",
              "      <td>17.25</td>\n",
              "      <td>0</td>\n",
              "      <td>2023</td>\n",
              "      <td>9</td>\n",
              "    </tr>\n",
              "    <tr>\n",
              "      <th>4</th>\n",
              "      <td>2023-08-18</td>\n",
              "      <td>12:16:28 PM</td>\n",
              "      <td>Other</td>\n",
              "      <td>HDFC</td>\n",
              "      <td>Machilipatnam</td>\n",
              "      <td>West Bengal</td>\n",
              "      <td>Failed</td>\n",
              "      <td>Windows</td>\n",
              "      <td>2</td>\n",
              "      <td>Other</td>\n",
              "      <td>Online</td>\n",
              "      <td>36.14</td>\n",
              "      <td>5</td>\n",
              "      <td>35.72</td>\n",
              "      <td>0</td>\n",
              "      <td>2023</td>\n",
              "      <td>8</td>\n",
              "    </tr>\n",
              "  </tbody>\n",
              "</table>\n",
              "</div>"
            ],
            "text/plain": [
              "        Date         Time Transaction_Type Payment_Gateway Transaction_City  \\\n",
              "0 2023-10-23   4:36:16 AM         Purchase       ICICI UPI            Mango   \n",
              "1 2023-05-31   4:36:16 AM    Bank Transfer            HDFC        Gorakhpur   \n",
              "2 2024-01-19   4:36:16 AM     Bill Payment            CRED          Khammam   \n",
              "3 2023-09-18   5:07:24 AM            Other            HDFC           Nanded   \n",
              "4 2023-08-18  12:16:28 PM            Other            HDFC    Machilipatnam   \n",
              "\n",
              "  Transaction_State Transaction_Status Device_OS  Transaction_Frequency  \\\n",
              "0       Uttarakhand            Pending   Windows                      2   \n",
              "1  Himachal Pradesh            Pending   Windows                      2   \n",
              "2    Andhra Pradesh            Pending   Android                      3   \n",
              "3            Odisha          Completed       iOS                      0   \n",
              "4       West Bengal             Failed   Windows                      2   \n",
              "\n",
              "              Merchant_Category Transaction_Channel  \\\n",
              "0               Travel bookings              Online   \n",
              "1  Financial services and Taxes              Mobile   \n",
              "2  Financial services and Taxes            In-store   \n",
              "3                     Utilities              Mobile   \n",
              "4                         Other              Online   \n",
              "\n",
              "   Transaction_Amount_Deviation  Days_Since_Last_Transaction  amount  fraud  \\\n",
              "0                         68.25                           24    4.55      0   \n",
              "1                        -57.75                           17   39.68      0   \n",
              "2                        -46.95                           20   26.89      0   \n",
              "3                        -96.64                           18   17.25      0   \n",
              "4                         36.14                            5   35.72      0   \n",
              "\n",
              "   Year  Month  \n",
              "0  2023     10  \n",
              "1  2023      5  \n",
              "2  2024      1  \n",
              "3  2023      9  \n",
              "4  2023      8  "
            ]
          },
          "execution_count": 67,
          "metadata": {},
          "output_type": "execute_result"
        }
      ],
      "source": [
        "# First 5 rows\n",
        "df.head()"
      ]
    },
    {
      "cell_type": "code",
      "execution_count": 68,
      "metadata": {
        "colab": {
          "base_uri": "https://localhost:8080/"
        },
        "id": "rCZuMmLUu7n9",
        "outputId": "36c97112-9250-4395-a11a-05be7f323413"
      },
      "outputs": [
        {
          "data": {
            "text/plain": [
              "array([ 1,  2,  3,  4,  5,  6,  7,  8,  9, 10, 11, 12], dtype=int32)"
            ]
          },
          "execution_count": 68,
          "metadata": {},
          "output_type": "execute_result"
        }
      ],
      "source": [
        "# Checking the unique values in the month column\n",
        "df['Month'].sort_values(ascending=True).unique()"
      ]
    },
    {
      "cell_type": "code",
      "execution_count": 69,
      "metadata": {
        "id": "OEAo5DEnu7n9"
      },
      "outputs": [],
      "source": [
        "# Assigning Names to the months for better readability\n",
        "\n",
        "months = {\n",
        "    1:'Jan',\n",
        "    2:'Feb',\n",
        "    3:'Mar',\n",
        "    4:'Apr',\n",
        "    5:'May',\n",
        "    6:'Jun',\n",
        "    7:'Jul',\n",
        "    8:'Aug',\n",
        "    9:'Sep',\n",
        "    10:'Oct',\n",
        "    11:'Nov',\n",
        "    12:'Dec'\n",
        "}"
      ]
    },
    {
      "cell_type": "code",
      "execution_count": 70,
      "metadata": {
        "id": "B7nFZqIWu7n9"
      },
      "outputs": [],
      "source": [
        "# Map the 'Month' column values to their corresponding month names\n",
        "df['Month'] = df['Month'].map(months)\n"
      ]
    },
    {
      "cell_type": "code",
      "execution_count": 71,
      "metadata": {
        "colab": {
          "base_uri": "https://localhost:8080/",
          "height": 294
        },
        "id": "83q_TqIeu7n9",
        "outputId": "f7b2f0c2-5fc7-4d83-e3f2-60514429de56"
      },
      "outputs": [
        {
          "name": "stdout",
          "output_type": "stream",
          "text": [
            "Descriptive statistics for numerical variables:\n"
          ]
        },
        {
          "data": {
            "text/html": [
              "<div>\n",
              "<style scoped>\n",
              "    .dataframe tbody tr th:only-of-type {\n",
              "        vertical-align: middle;\n",
              "    }\n",
              "\n",
              "    .dataframe tbody tr th {\n",
              "        vertical-align: top;\n",
              "    }\n",
              "\n",
              "    .dataframe thead th {\n",
              "        text-align: right;\n",
              "    }\n",
              "</style>\n",
              "<table border=\"1\" class=\"dataframe\">\n",
              "  <thead>\n",
              "    <tr style=\"text-align: right;\">\n",
              "      <th></th>\n",
              "      <th>count</th>\n",
              "      <th>mean</th>\n",
              "      <th>min</th>\n",
              "      <th>25%</th>\n",
              "      <th>50%</th>\n",
              "      <th>75%</th>\n",
              "      <th>max</th>\n",
              "      <th>std</th>\n",
              "    </tr>\n",
              "  </thead>\n",
              "  <tbody>\n",
              "    <tr>\n",
              "      <th>Date</th>\n",
              "      <td>50000</td>\n",
              "      <td>2023-10-12 02:57:21.024000256</td>\n",
              "      <td>2023-04-12 00:00:00</td>\n",
              "      <td>2023-07-13 00:00:00</td>\n",
              "      <td>2023-10-13 00:00:00</td>\n",
              "      <td>2024-01-11 00:00:00</td>\n",
              "      <td>2024-04-12 00:00:00</td>\n",
              "      <td>NaN</td>\n",
              "    </tr>\n",
              "    <tr>\n",
              "      <th>Transaction_Frequency</th>\n",
              "      <td>50000.0</td>\n",
              "      <td>3.7891</td>\n",
              "      <td>0.0</td>\n",
              "      <td>1.0</td>\n",
              "      <td>2.0</td>\n",
              "      <td>3.0</td>\n",
              "      <td>90.0</td>\n",
              "      <td>7.165309</td>\n",
              "    </tr>\n",
              "    <tr>\n",
              "      <th>Transaction_Amount_Deviation</th>\n",
              "      <td>50000.0</td>\n",
              "      <td>0.036824</td>\n",
              "      <td>-100.0</td>\n",
              "      <td>-49.94</td>\n",
              "      <td>-0.245</td>\n",
              "      <td>49.9325</td>\n",
              "      <td>99.99</td>\n",
              "      <td>57.766852</td>\n",
              "    </tr>\n",
              "    <tr>\n",
              "      <th>Days_Since_Last_Transaction</th>\n",
              "      <td>50000.0</td>\n",
              "      <td>15.01206</td>\n",
              "      <td>1.0</td>\n",
              "      <td>8.0</td>\n",
              "      <td>15.0</td>\n",
              "      <td>22.0</td>\n",
              "      <td>29.0</td>\n",
              "      <td>8.361009</td>\n",
              "    </tr>\n",
              "    <tr>\n",
              "      <th>amount</th>\n",
              "      <td>50000.0</td>\n",
              "      <td>39.886908</td>\n",
              "      <td>0.0</td>\n",
              "      <td>13.81</td>\n",
              "      <td>26.97</td>\n",
              "      <td>42.87</td>\n",
              "      <td>7432.48</td>\n",
              "      <td>130.70298</td>\n",
              "    </tr>\n",
              "    <tr>\n",
              "      <th>fraud</th>\n",
              "      <td>50000.0</td>\n",
              "      <td>0.01548</td>\n",
              "      <td>0.0</td>\n",
              "      <td>0.0</td>\n",
              "      <td>0.0</td>\n",
              "      <td>0.0</td>\n",
              "      <td>1.0</td>\n",
              "      <td>0.123453</td>\n",
              "    </tr>\n",
              "    <tr>\n",
              "      <th>Year</th>\n",
              "      <td>50000.0</td>\n",
              "      <td>2023.2793</td>\n",
              "      <td>2023.0</td>\n",
              "      <td>2023.0</td>\n",
              "      <td>2023.0</td>\n",
              "      <td>2024.0</td>\n",
              "      <td>2024.0</td>\n",
              "      <td>0.44866</td>\n",
              "    </tr>\n",
              "  </tbody>\n",
              "</table>\n",
              "</div>"
            ],
            "text/plain": [
              "                                count                           mean  \\\n",
              "Date                            50000  2023-10-12 02:57:21.024000256   \n",
              "Transaction_Frequency         50000.0                         3.7891   \n",
              "Transaction_Amount_Deviation  50000.0                       0.036824   \n",
              "Days_Since_Last_Transaction   50000.0                       15.01206   \n",
              "amount                        50000.0                      39.886908   \n",
              "fraud                         50000.0                        0.01548   \n",
              "Year                          50000.0                      2023.2793   \n",
              "\n",
              "                                              min                  25%  \\\n",
              "Date                          2023-04-12 00:00:00  2023-07-13 00:00:00   \n",
              "Transaction_Frequency                         0.0                  1.0   \n",
              "Transaction_Amount_Deviation               -100.0               -49.94   \n",
              "Days_Since_Last_Transaction                   1.0                  8.0   \n",
              "amount                                        0.0                13.81   \n",
              "fraud                                         0.0                  0.0   \n",
              "Year                                       2023.0               2023.0   \n",
              "\n",
              "                                              50%                  75%  \\\n",
              "Date                          2023-10-13 00:00:00  2024-01-11 00:00:00   \n",
              "Transaction_Frequency                         2.0                  3.0   \n",
              "Transaction_Amount_Deviation               -0.245              49.9325   \n",
              "Days_Since_Last_Transaction                  15.0                 22.0   \n",
              "amount                                      26.97                42.87   \n",
              "fraud                                         0.0                  0.0   \n",
              "Year                                       2023.0               2024.0   \n",
              "\n",
              "                                              max        std  \n",
              "Date                          2024-04-12 00:00:00        NaN  \n",
              "Transaction_Frequency                        90.0   7.165309  \n",
              "Transaction_Amount_Deviation                99.99  57.766852  \n",
              "Days_Since_Last_Transaction                  29.0   8.361009  \n",
              "amount                                    7432.48  130.70298  \n",
              "fraud                                         1.0   0.123453  \n",
              "Year                                       2024.0    0.44866  "
            ]
          },
          "execution_count": 71,
          "metadata": {},
          "output_type": "execute_result"
        }
      ],
      "source": [
        "# Descriptive statistics for numerical variables\n",
        "numerical_stats = df.describe().T\n",
        "print(\"Descriptive statistics for numerical variables:\")\n",
        "numerical_stats"
      ]
    },
    {
      "cell_type": "markdown",
      "metadata": {
        "id": "_7rkOxwiu7n9"
      },
      "source": [
        "### Inference:\n",
        "      Transaction Frequency:\n",
        "                Users, on average, make around 4 transactions.\n",
        "                The number of transactions per user varies widely, from 0 to 90.\n",
        "                \n",
        "      Transaction Amount Deviation:\n",
        "                The average deviation from expected transaction amounts is very low, around 0.04.\n",
        "                However, this deviation varies greatly, from -100 to 99.99.\n",
        "                \n",
        "      Days Since Last Transaction:\n",
        "                 On average, users make a transaction every 15 days.\n",
        "                 The time since the last transaction ranges from 1 day to 29 days.\n",
        "                 \n",
        "      Amount:\n",
        "                 On average, transaction amounts are around 40 units.\n",
        "                 Transaction amounts range from 0 to 7432.48 units.\n",
        "                 \n",
        "      Fraud:\n",
        "                 Only around 1.5% of transactions are fraudulent.\n",
        "                 \n",
        "      Year:\n",
        "                 The data mainly spans the year 2023, with a small portion from 2024."
      ]
    },
    {
      "cell_type": "code",
      "execution_count": 72,
      "metadata": {
        "colab": {
          "base_uri": "https://localhost:8080/"
        },
        "id": "SRcIcBvVu7n-",
        "outputId": "05b8fde6-3903-47e1-c05a-c99077132a6e"
      },
      "outputs": [
        {
          "data": {
            "text/plain": [
              "fraud\n",
              "0    98.452\n",
              "1     1.548\n",
              "Name: proportion, dtype: float64"
            ]
          },
          "execution_count": 72,
          "metadata": {},
          "output_type": "execute_result"
        }
      ],
      "source": [
        "# Distribution of target variable\n",
        "df['fraud'].value_counts(normalize=True)*100"
      ]
    },
    {
      "cell_type": "code",
      "execution_count": 73,
      "metadata": {
        "colab": {
          "base_uri": "https://localhost:8080/",
          "height": 464
        },
        "id": "aYMohYkRu7n-",
        "outputId": "607372d3-4762-41b1-a8b1-2e13946e391c"
      },
      "outputs": [
        {
          "data": {
            "text/plain": [
              "<Axes: xlabel='fraud', ylabel='count'>"
            ]
          },
          "execution_count": 73,
          "metadata": {},
          "output_type": "execute_result"
        },
        {
          "data": {
            "image/png": "[encoded data removed]",
            "text/plain": [
              "<Figure size 640x480 with 1 Axes>"
            ]
          },
          "metadata": {},
          "output_type": "display_data"
        }
      ],
      "source": [
        "# Distribution of target variable\n",
        "sns.countplot(x='fraud', data=df,color='lightpink', label= 'fraud')"
      ]
    },
    {
      "cell_type": "markdown",
      "metadata": {
        "id": "PGeVXt3gu7n-"
      },
      "source": [
        "###  Create separate DataFrames for normal and fraudulent transactions\n"
      ]
    },
    {
      "cell_type": "code",
      "execution_count": 74,
      "metadata": {
        "id": "OqUOnoupu7n-"
      },
      "outputs": [],
      "source": [
        "# Create separate DataFrames for normal and fraudulent transactions\n",
        "normal = df[df['fraud'] == 0]\n",
        "fraud = df[df['fraud'] == 1]"
      ]
    },
    {
      "cell_type": "code",
      "execution_count": 75,
      "metadata": {
        "colab": {
          "base_uri": "https://localhost:8080/"
        },
        "id": "YQQ4lRFpu7n-",
        "outputId": "d64bbb3a-3561-4af2-be03-9ed29cc9746b"
      },
      "outputs": [
        {
          "data": {
            "text/plain": [
              "(774, 17)"
            ]
          },
          "execution_count": 75,
          "metadata": {},
          "output_type": "execute_result"
        }
      ],
      "source": [
        "fraud.shape"
      ]
    },
    {
      "cell_type": "code",
      "execution_count": 76,
      "metadata": {
        "colab": {
          "base_uri": "https://localhost:8080/",
          "height": 303
        },
        "id": "krNHa6hPu7n-",
        "outputId": "e726e622-ebdd-4568-d5e9-039b03e66241"
      },
      "outputs": [
        {
          "data": {
            "text/html": [
              "<div>\n",
              "<style scoped>\n",
              "    .dataframe tbody tr th:only-of-type {\n",
              "        vertical-align: middle;\n",
              "    }\n",
              "\n",
              "    .dataframe tbody tr th {\n",
              "        vertical-align: top;\n",
              "    }\n",
              "\n",
              "    .dataframe thead th {\n",
              "        text-align: right;\n",
              "    }\n",
              "</style>\n",
              "<table border=\"1\" class=\"dataframe\">\n",
              "  <thead>\n",
              "    <tr style=\"text-align: right;\">\n",
              "      <th></th>\n",
              "      <th>Date</th>\n",
              "      <th>Time</th>\n",
              "      <th>Transaction_Type</th>\n",
              "      <th>Payment_Gateway</th>\n",
              "      <th>Transaction_City</th>\n",
              "      <th>Transaction_State</th>\n",
              "      <th>Transaction_Status</th>\n",
              "      <th>Device_OS</th>\n",
              "      <th>Transaction_Frequency</th>\n",
              "      <th>Merchant_Category</th>\n",
              "      <th>Transaction_Channel</th>\n",
              "      <th>Transaction_Amount_Deviation</th>\n",
              "      <th>Days_Since_Last_Transaction</th>\n",
              "      <th>amount</th>\n",
              "      <th>fraud</th>\n",
              "      <th>Year</th>\n",
              "      <th>Month</th>\n",
              "    </tr>\n",
              "  </thead>\n",
              "  <tbody>\n",
              "    <tr>\n",
              "      <th>88</th>\n",
              "      <td>2023-08-07</td>\n",
              "      <td>11:16:29 AM</td>\n",
              "      <td>Investment</td>\n",
              "      <td>Paytm</td>\n",
              "      <td>Gopalpur</td>\n",
              "      <td>Himachal Pradesh</td>\n",
              "      <td>Failed</td>\n",
              "      <td>Windows</td>\n",
              "      <td>1</td>\n",
              "      <td>Donations and Devotion</td>\n",
              "      <td>In-store</td>\n",
              "      <td>-30.55</td>\n",
              "      <td>14</td>\n",
              "      <td>44.26</td>\n",
              "      <td>1</td>\n",
              "      <td>2023</td>\n",
              "      <td>Aug</td>\n",
              "    </tr>\n",
              "    <tr>\n",
              "      <th>89</th>\n",
              "      <td>2023-07-29</td>\n",
              "      <td>7:26:15 AM</td>\n",
              "      <td>Investment</td>\n",
              "      <td>ICICI UPI</td>\n",
              "      <td>Sonipat</td>\n",
              "      <td>Punjab</td>\n",
              "      <td>Pending</td>\n",
              "      <td>Android</td>\n",
              "      <td>1</td>\n",
              "      <td>More Services</td>\n",
              "      <td>Mobile</td>\n",
              "      <td>-40.54</td>\n",
              "      <td>13</td>\n",
              "      <td>324.50</td>\n",
              "      <td>1</td>\n",
              "      <td>2023</td>\n",
              "      <td>Jul</td>\n",
              "    </tr>\n",
              "    <tr>\n",
              "      <th>434</th>\n",
              "      <td>2023-05-23</td>\n",
              "      <td>5:24:39 AM</td>\n",
              "      <td>Bill Payment</td>\n",
              "      <td>Paytm</td>\n",
              "      <td>Orai</td>\n",
              "      <td>Tamil Nadu</td>\n",
              "      <td>Failed</td>\n",
              "      <td>Android</td>\n",
              "      <td>3</td>\n",
              "      <td>More Services</td>\n",
              "      <td>In-store</td>\n",
              "      <td>83.32</td>\n",
              "      <td>22</td>\n",
              "      <td>176.32</td>\n",
              "      <td>1</td>\n",
              "      <td>2023</td>\n",
              "      <td>May</td>\n",
              "    </tr>\n",
              "    <tr>\n",
              "      <th>435</th>\n",
              "      <td>2023-07-12</td>\n",
              "      <td>10:50:16 AM</td>\n",
              "      <td>Refund</td>\n",
              "      <td>ICICI UPI</td>\n",
              "      <td>Tumkur</td>\n",
              "      <td>Andhra Pradesh</td>\n",
              "      <td>Failed</td>\n",
              "      <td>Windows</td>\n",
              "      <td>1</td>\n",
              "      <td>Financial services and Taxes</td>\n",
              "      <td>In-store</td>\n",
              "      <td>-74.45</td>\n",
              "      <td>27</td>\n",
              "      <td>337.41</td>\n",
              "      <td>1</td>\n",
              "      <td>2023</td>\n",
              "      <td>Jul</td>\n",
              "    </tr>\n",
              "    <tr>\n",
              "      <th>553</th>\n",
              "      <td>2023-12-29</td>\n",
              "      <td>11:19:11 AM</td>\n",
              "      <td>Subscription</td>\n",
              "      <td>Razor Pay</td>\n",
              "      <td>Chinsurah</td>\n",
              "      <td>Madhya Pradesh</td>\n",
              "      <td>Pending</td>\n",
              "      <td>MacOS</td>\n",
              "      <td>2</td>\n",
              "      <td>Purchases</td>\n",
              "      <td>In-store</td>\n",
              "      <td>1.11</td>\n",
              "      <td>24</td>\n",
              "      <td>220.11</td>\n",
              "      <td>1</td>\n",
              "      <td>2023</td>\n",
              "      <td>Dec</td>\n",
              "    </tr>\n",
              "  </tbody>\n",
              "</table>\n",
              "</div>"
            ],
            "text/plain": [
              "          Date         Time Transaction_Type Payment_Gateway Transaction_City  \\\n",
              "88  2023-08-07  11:16:29 AM       Investment           Paytm         Gopalpur   \n",
              "89  2023-07-29   7:26:15 AM       Investment       ICICI UPI          Sonipat   \n",
              "434 2023-05-23   5:24:39 AM     Bill Payment           Paytm             Orai   \n",
              "435 2023-07-12  10:50:16 AM           Refund       ICICI UPI           Tumkur   \n",
              "553 2023-12-29  11:19:11 AM     Subscription       Razor Pay        Chinsurah   \n",
              "\n",
              "    Transaction_State Transaction_Status Device_OS  Transaction_Frequency  \\\n",
              "88   Himachal Pradesh             Failed   Windows                      1   \n",
              "89             Punjab            Pending   Android                      1   \n",
              "434        Tamil Nadu             Failed   Android                      3   \n",
              "435    Andhra Pradesh             Failed   Windows                      1   \n",
              "553    Madhya Pradesh            Pending     MacOS                      2   \n",
              "\n",
              "                Merchant_Category Transaction_Channel  \\\n",
              "88         Donations and Devotion            In-store   \n",
              "89                  More Services              Mobile   \n",
              "434                 More Services            In-store   \n",
              "435  Financial services and Taxes            In-store   \n",
              "553                     Purchases            In-store   \n",
              "\n",
              "     Transaction_Amount_Deviation  Days_Since_Last_Transaction  amount  fraud  \\\n",
              "88                         -30.55                           14   44.26      1   \n",
              "89                         -40.54                           13  324.50      1   \n",
              "434                         83.32                           22  176.32      1   \n",
              "435                        -74.45                           27  337.41      1   \n",
              "553                          1.11                           24  220.11      1   \n",
              "\n",
              "     Year Month  \n",
              "88   2023   Aug  \n",
              "89   2023   Jul  \n",
              "434  2023   May  \n",
              "435  2023   Jul  \n",
              "553  2023   Dec  "
            ]
          },
          "execution_count": 76,
          "metadata": {},
          "output_type": "execute_result"
        }
      ],
      "source": [
        "# Check the fraud DataFrame\n",
        "fraud.head()"
      ]
    },
    {
      "cell_type": "code",
      "execution_count": 77,
      "metadata": {
        "colab": {
          "base_uri": "https://localhost:8080/"
        },
        "id": "iTWciiwYu7n-",
        "outputId": "d69717c9-00ec-427d-8047-a62a2d8a0cdb"
      },
      "outputs": [
        {
          "data": {
            "text/plain": [
              "Date                            datetime64[ns]\n",
              "Time                                    object\n",
              "Transaction_Type                        object\n",
              "Payment_Gateway                         object\n",
              "Transaction_City                        object\n",
              "Transaction_State                       object\n",
              "Transaction_Status                      object\n",
              "Device_OS                               object\n",
              "Transaction_Frequency                    int64\n",
              "Merchant_Category                       object\n",
              "Transaction_Channel                     object\n",
              "Transaction_Amount_Deviation           float64\n",
              "Days_Since_Last_Transaction              int64\n",
              "amount                                 float64\n",
              "fraud                                    int64\n",
              "Year                                     int32\n",
              "Month                                   object\n",
              "dtype: object"
            ]
          },
          "execution_count": 77,
          "metadata": {},
          "output_type": "execute_result"
        }
      ],
      "source": [
        "fraud.dtypes"
      ]
    },
    {
      "cell_type": "code",
      "execution_count": 78,
      "metadata": {
        "id": "LUVJ-MYuu7n-"
      },
      "outputs": [],
      "source": [
        "fraud['Date'] = fraud['Date'].astype(object)\n",
        "df['Date'] = df['Date'].astype(object)\n"
      ]
    },
    {
      "cell_type": "code",
      "execution_count": 79,
      "metadata": {
        "colab": {
          "base_uri": "https://localhost:8080/"
        },
        "id": "Qh7eVVqNu7n_",
        "outputId": "1568d326-4ceb-40e7-ee35-ee460551ca29"
      },
      "outputs": [
        {
          "data": {
            "text/plain": [
              "Date                             object\n",
              "Time                             object\n",
              "Transaction_Type                 object\n",
              "Payment_Gateway                  object\n",
              "Transaction_City                 object\n",
              "Transaction_State                object\n",
              "Transaction_Status               object\n",
              "Device_OS                        object\n",
              "Transaction_Frequency             int64\n",
              "Merchant_Category                object\n",
              "Transaction_Channel              object\n",
              "Transaction_Amount_Deviation    float64\n",
              "Days_Since_Last_Transaction       int64\n",
              "amount                          float64\n",
              "fraud                             int64\n",
              "Year                              int32\n",
              "Month                            object\n",
              "dtype: object"
            ]
          },
          "execution_count": 79,
          "metadata": {},
          "output_type": "execute_result"
        }
      ],
      "source": [
        "fraud.dtypes"
      ]
    },
    {
      "cell_type": "markdown",
      "metadata": {
        "id": "t06yMXXpu7n_"
      },
      "source": [
        "### Analysis for fraud"
      ]
    },
    {
      "cell_type": "code",
      "execution_count": 80,
      "metadata": {
        "colab": {
          "base_uri": "https://localhost:8080/",
          "height": 231
        },
        "id": "qZaneS0hu7n_",
        "outputId": "6958a787-20dc-4592-d50c-ae59fad4b3b0"
      },
      "outputs": [
        {
          "data": {
            "text/html": [
              "<div>\n",
              "<style scoped>\n",
              "    .dataframe tbody tr th:only-of-type {\n",
              "        vertical-align: middle;\n",
              "    }\n",
              "\n",
              "    .dataframe tbody tr th {\n",
              "        vertical-align: top;\n",
              "    }\n",
              "\n",
              "    .dataframe thead th {\n",
              "        text-align: right;\n",
              "    }\n",
              "</style>\n",
              "<table border=\"1\" class=\"dataframe\">\n",
              "  <thead>\n",
              "    <tr style=\"text-align: right;\">\n",
              "      <th></th>\n",
              "      <th>count</th>\n",
              "      <th>mean</th>\n",
              "      <th>std</th>\n",
              "      <th>min</th>\n",
              "      <th>25%</th>\n",
              "      <th>50%</th>\n",
              "      <th>75%</th>\n",
              "      <th>max</th>\n",
              "    </tr>\n",
              "  </thead>\n",
              "  <tbody>\n",
              "    <tr>\n",
              "      <th>Transaction_Frequency</th>\n",
              "      <td>774.0</td>\n",
              "      <td>3.972868</td>\n",
              "      <td>7.471934</td>\n",
              "      <td>0.00</td>\n",
              "      <td>1.0000</td>\n",
              "      <td>2.00</td>\n",
              "      <td>3.000</td>\n",
              "      <td>60.00</td>\n",
              "    </tr>\n",
              "    <tr>\n",
              "      <th>Transaction_Amount_Deviation</th>\n",
              "      <td>774.0</td>\n",
              "      <td>3.152674</td>\n",
              "      <td>57.815484</td>\n",
              "      <td>-99.56</td>\n",
              "      <td>-46.1650</td>\n",
              "      <td>6.43</td>\n",
              "      <td>52.315</td>\n",
              "      <td>99.66</td>\n",
              "    </tr>\n",
              "    <tr>\n",
              "      <th>Days_Since_Last_Transaction</th>\n",
              "      <td>774.0</td>\n",
              "      <td>15.944444</td>\n",
              "      <td>8.127749</td>\n",
              "      <td>1.00</td>\n",
              "      <td>9.0000</td>\n",
              "      <td>16.00</td>\n",
              "      <td>23.000</td>\n",
              "      <td>29.00</td>\n",
              "    </tr>\n",
              "    <tr>\n",
              "      <th>amount</th>\n",
              "      <td>774.0</td>\n",
              "      <td>534.986977</td>\n",
              "      <td>878.387571</td>\n",
              "      <td>3.77</td>\n",
              "      <td>147.8275</td>\n",
              "      <td>309.50</td>\n",
              "      <td>546.710</td>\n",
              "      <td>7432.48</td>\n",
              "    </tr>\n",
              "    <tr>\n",
              "      <th>fraud</th>\n",
              "      <td>774.0</td>\n",
              "      <td>1.000000</td>\n",
              "      <td>0.000000</td>\n",
              "      <td>1.00</td>\n",
              "      <td>1.0000</td>\n",
              "      <td>1.00</td>\n",
              "      <td>1.000</td>\n",
              "      <td>1.00</td>\n",
              "    </tr>\n",
              "    <tr>\n",
              "      <th>Year</th>\n",
              "      <td>774.0</td>\n",
              "      <td>2023.281654</td>\n",
              "      <td>0.450096</td>\n",
              "      <td>2023.00</td>\n",
              "      <td>2023.0000</td>\n",
              "      <td>2023.00</td>\n",
              "      <td>2024.000</td>\n",
              "      <td>2024.00</td>\n",
              "    </tr>\n",
              "  </tbody>\n",
              "</table>\n",
              "</div>"
            ],
            "text/plain": [
              "                              count         mean         std      min  \\\n",
              "Transaction_Frequency         774.0     3.972868    7.471934     0.00   \n",
              "Transaction_Amount_Deviation  774.0     3.152674   57.815484   -99.56   \n",
              "Days_Since_Last_Transaction   774.0    15.944444    8.127749     1.00   \n",
              "amount                        774.0   534.986977  878.387571     3.77   \n",
              "fraud                         774.0     1.000000    0.000000     1.00   \n",
              "Year                          774.0  2023.281654    0.450096  2023.00   \n",
              "\n",
              "                                    25%      50%       75%      max  \n",
              "Transaction_Frequency            1.0000     2.00     3.000    60.00  \n",
              "Transaction_Amount_Deviation   -46.1650     6.43    52.315    99.66  \n",
              "Days_Since_Last_Transaction      9.0000    16.00    23.000    29.00  \n",
              "amount                         147.8275   309.50   546.710  7432.48  \n",
              "fraud                            1.0000     1.00     1.000     1.00  \n",
              "Year                          2023.0000  2023.00  2024.000  2024.00  "
            ]
          },
          "execution_count": 80,
          "metadata": {},
          "output_type": "execute_result"
        }
      ],
      "source": [
        "# Describe the fraud DataFrame\n",
        "fraud.describe().T"
      ]
    },
    {
      "cell_type": "markdown",
      "metadata": {
        "id": "wV8uFWQdu7n_"
      },
      "source": [
        "### Inference:\n",
        "           * Transaction Frequency:\n",
        "              On average, there are around 4 transactions per fraud case.\n",
        "              The maximum number of transactions associated with a fraud case is 60.\n",
        "              \n",
        "           * Transaction Amount Deviation:\n",
        "              The transaction amount varies considerably around an average of 3.15 units.\n",
        "              The deviation in transaction amounts can be significant, with a maximum deviation of 99.66 units.\n",
        "              \n",
        "           * Days Since Last Transaction:\n",
        "              On average, a transaction occurs approximately every 16 days.\n",
        "              The shortest time between transactions is 1 day, indicating frequent fraudulent activities.\n",
        "              \n",
        "           * Transaction Amount:\n",
        "              The average transaction amount associated with fraudulent activity is around 534.99 units.\n",
        "              Transaction amounts vary significantly, with a maximum of 7432.48 units.\n",
        "              \n",
        "           * Year:\n",
        "              Most fraudulent transactions occurred in the year 2023."
      ]
    },
    {
      "cell_type": "markdown",
      "metadata": {
        "id": "b9bEOhmWu7n_"
      },
      "source": [
        "#### Correlation check for entire dataset"
      ]
    },
    {
      "cell_type": "code",
      "execution_count": 81,
      "metadata": {
        "id": "tLKBzNQlu7n_"
      },
      "outputs": [],
      "source": [
        "numeric_columns_df = df.select_dtypes(include=['int64','float64'])"
      ]
    },
    {
      "cell_type": "code",
      "execution_count": 82,
      "metadata": {
        "colab": {
          "base_uri": "https://localhost:8080/",
          "height": 201
        },
        "id": "RqbPVwabu7oA",
        "outputId": "e58a571c-16b9-4d0b-ea5f-f2c941569a46",
        "scrolled": false
      },
      "outputs": [
        {
          "data": {
            "text/html": [
              "<div>\n",
              "<style scoped>\n",
              "    .dataframe tbody tr th:only-of-type {\n",
              "        vertical-align: middle;\n",
              "    }\n",
              "\n",
              "    .dataframe tbody tr th {\n",
              "        vertical-align: top;\n",
              "    }\n",
              "\n",
              "    .dataframe thead th {\n",
              "        text-align: right;\n",
              "    }\n",
              "</style>\n",
              "<table border=\"1\" class=\"dataframe\">\n",
              "  <thead>\n",
              "    <tr style=\"text-align: right;\">\n",
              "      <th></th>\n",
              "      <th>Transaction_Frequency</th>\n",
              "      <th>Transaction_Amount_Deviation</th>\n",
              "      <th>Days_Since_Last_Transaction</th>\n",
              "      <th>amount</th>\n",
              "      <th>fraud</th>\n",
              "    </tr>\n",
              "  </thead>\n",
              "  <tbody>\n",
              "    <tr>\n",
              "      <th>Transaction_Frequency</th>\n",
              "      <td>1.000000</td>\n",
              "      <td>0.005282</td>\n",
              "      <td>0.011400</td>\n",
              "      <td>-0.005520</td>\n",
              "      <td>0.003216</td>\n",
              "    </tr>\n",
              "    <tr>\n",
              "      <th>Transaction_Amount_Deviation</th>\n",
              "      <td>0.005282</td>\n",
              "      <td>1.000000</td>\n",
              "      <td>-0.001588</td>\n",
              "      <td>0.004560</td>\n",
              "      <td>0.006764</td>\n",
              "    </tr>\n",
              "    <tr>\n",
              "      <th>Days_Since_Last_Transaction</th>\n",
              "      <td>0.011400</td>\n",
              "      <td>-0.001588</td>\n",
              "      <td>1.000000</td>\n",
              "      <td>0.008497</td>\n",
              "      <td>0.013983</td>\n",
              "    </tr>\n",
              "    <tr>\n",
              "      <th>amount</th>\n",
              "      <td>-0.005520</td>\n",
              "      <td>0.004560</td>\n",
              "      <td>0.008497</td>\n",
              "      <td>1.000000</td>\n",
              "      <td>0.474991</td>\n",
              "    </tr>\n",
              "    <tr>\n",
              "      <th>fraud</th>\n",
              "      <td>0.003216</td>\n",
              "      <td>0.006764</td>\n",
              "      <td>0.013983</td>\n",
              "      <td>0.474991</td>\n",
              "      <td>1.000000</td>\n",
              "    </tr>\n",
              "  </tbody>\n",
              "</table>\n",
              "</div>"
            ],
            "text/plain": [
              "                              Transaction_Frequency  \\\n",
              "Transaction_Frequency                      1.000000   \n",
              "Transaction_Amount_Deviation               0.005282   \n",
              "Days_Since_Last_Transaction                0.011400   \n",
              "amount                                    -0.005520   \n",
              "fraud                                      0.003216   \n",
              "\n",
              "                              Transaction_Amount_Deviation  \\\n",
              "Transaction_Frequency                             0.005282   \n",
              "Transaction_Amount_Deviation                      1.000000   \n",
              "Days_Since_Last_Transaction                      -0.001588   \n",
              "amount                                            0.004560   \n",
              "fraud                                             0.006764   \n",
              "\n",
              "                              Days_Since_Last_Transaction    amount     fraud  \n",
              "Transaction_Frequency                            0.011400 -0.005520  0.003216  \n",
              "Transaction_Amount_Deviation                    -0.001588  0.004560  0.006764  \n",
              "Days_Since_Last_Transaction                      1.000000  0.008497  0.013983  \n",
              "amount                                           0.008497  1.000000  0.474991  \n",
              "fraud                                            0.013983  0.474991  1.000000  "
            ]
          },
          "execution_count": 82,
          "metadata": {},
          "output_type": "execute_result"
        }
      ],
      "source": [
        "corr= numeric_columns_df.corr()\n",
        "corr"
      ]
    },
    {
      "cell_type": "markdown",
      "metadata": {
        "id": "NYKv4Dswu7oA"
      },
      "source": [
        "### Inference:\n",
        "      Overall, none of the variables have a strong linear relationship with fraud. However, there is a moderate positive relationship between transaction amount and fraud."
      ]
    },
    {
      "cell_type": "markdown",
      "metadata": {
        "id": "35ek0O-7u7oA"
      },
      "source": [
        "#### Correlation check for fraud dataset"
      ]
    },
    {
      "cell_type": "code",
      "execution_count": 83,
      "metadata": {
        "id": "c3HclIKiu7oA"
      },
      "outputs": [],
      "source": [
        "numeric_columns = fraud.select_dtypes(include=['int64','float64'])"
      ]
    },
    {
      "cell_type": "code",
      "execution_count": 84,
      "metadata": {
        "colab": {
          "base_uri": "https://localhost:8080/",
          "height": 201
        },
        "id": "bku9MNLDu7oA",
        "outputId": "22d5a543-d751-4456-a7dd-bda5ae8103c3"
      },
      "outputs": [
        {
          "data": {
            "text/html": [
              "<div>\n",
              "<style scoped>\n",
              "    .dataframe tbody tr th:only-of-type {\n",
              "        vertical-align: middle;\n",
              "    }\n",
              "\n",
              "    .dataframe tbody tr th {\n",
              "        vertical-align: top;\n",
              "    }\n",
              "\n",
              "    .dataframe thead th {\n",
              "        text-align: right;\n",
              "    }\n",
              "</style>\n",
              "<table border=\"1\" class=\"dataframe\">\n",
              "  <thead>\n",
              "    <tr style=\"text-align: right;\">\n",
              "      <th></th>\n",
              "      <th>Transaction_Frequency</th>\n",
              "      <th>Transaction_Amount_Deviation</th>\n",
              "      <th>Days_Since_Last_Transaction</th>\n",
              "      <th>amount</th>\n",
              "      <th>fraud</th>\n",
              "    </tr>\n",
              "  </thead>\n",
              "  <tbody>\n",
              "    <tr>\n",
              "      <th>Transaction_Frequency</th>\n",
              "      <td>1.000000</td>\n",
              "      <td>0.021117</td>\n",
              "      <td>0.037168</td>\n",
              "      <td>-0.042881</td>\n",
              "      <td>NaN</td>\n",
              "    </tr>\n",
              "    <tr>\n",
              "      <th>Transaction_Amount_Deviation</th>\n",
              "      <td>0.021117</td>\n",
              "      <td>1.000000</td>\n",
              "      <td>0.019574</td>\n",
              "      <td>-0.002088</td>\n",
              "      <td>NaN</td>\n",
              "    </tr>\n",
              "    <tr>\n",
              "      <th>Days_Since_Last_Transaction</th>\n",
              "      <td>0.037168</td>\n",
              "      <td>0.019574</td>\n",
              "      <td>1.000000</td>\n",
              "      <td>0.019704</td>\n",
              "      <td>NaN</td>\n",
              "    </tr>\n",
              "    <tr>\n",
              "      <th>amount</th>\n",
              "      <td>-0.042881</td>\n",
              "      <td>-0.002088</td>\n",
              "      <td>0.019704</td>\n",
              "      <td>1.000000</td>\n",
              "      <td>NaN</td>\n",
              "    </tr>\n",
              "    <tr>\n",
              "      <th>fraud</th>\n",
              "      <td>NaN</td>\n",
              "      <td>NaN</td>\n",
              "      <td>NaN</td>\n",
              "      <td>NaN</td>\n",
              "      <td>NaN</td>\n",
              "    </tr>\n",
              "  </tbody>\n",
              "</table>\n",
              "</div>"
            ],
            "text/plain": [
              "                              Transaction_Frequency  \\\n",
              "Transaction_Frequency                      1.000000   \n",
              "Transaction_Amount_Deviation               0.021117   \n",
              "Days_Since_Last_Transaction                0.037168   \n",
              "amount                                    -0.042881   \n",
              "fraud                                           NaN   \n",
              "\n",
              "                              Transaction_Amount_Deviation  \\\n",
              "Transaction_Frequency                             0.021117   \n",
              "Transaction_Amount_Deviation                      1.000000   \n",
              "Days_Since_Last_Transaction                       0.019574   \n",
              "amount                                           -0.002088   \n",
              "fraud                                                  NaN   \n",
              "\n",
              "                              Days_Since_Last_Transaction    amount  fraud  \n",
              "Transaction_Frequency                            0.037168 -0.042881    NaN  \n",
              "Transaction_Amount_Deviation                     0.019574 -0.002088    NaN  \n",
              "Days_Since_Last_Transaction                      1.000000  0.019704    NaN  \n",
              "amount                                           0.019704  1.000000    NaN  \n",
              "fraud                                                 NaN       NaN    NaN  "
            ]
          },
          "execution_count": 84,
          "metadata": {},
          "output_type": "execute_result"
        }
      ],
      "source": [
        "corr= numeric_columns.corr()\n",
        "corr"
      ]
    },
    {
      "cell_type": "markdown",
      "metadata": {
        "id": "uJG6C1Q6u7oA"
      },
      "source": [
        "### Visualizing entire dataset"
      ]
    },
    {
      "cell_type": "markdown",
      "metadata": {
        "id": "XrQbeI03u7oA"
      },
      "source": [
        "#### Visualizing different features basis the fraud occurence as a subplot"
      ]
    },
    {
      "cell_type": "code",
      "execution_count": 85,
      "metadata": {
        "colab": {
          "base_uri": "https://localhost:8080/",
          "height": 1000
        },
        "id": "FxYQaPqUu7oA",
        "outputId": "2d02c0bb-af1a-4552-ec00-9b83d23a560c"
      },
      "outputs": [],
      "source": [
        "# sns.pairplot(data=df,hue='fraud',palette='viridis', diag_kind='dist')"
      ]
    },
    {
      "cell_type": "markdown",
      "metadata": {
        "id": "NFMwiIWzu7oB"
      },
      "source": [
        "### Visualizing Fraud Data"
      ]
    },
    {
      "cell_type": "code",
      "execution_count": 86,
      "metadata": {
        "colab": {
          "base_uri": "https://localhost:8080/",
          "height": 1000
        },
        "id": "GjY0SKODu7oB",
        "outputId": "14d1fee9-c6d4-407d-cf0d-3199e1bf9540"
      },
      "outputs": [
        {
          "data": {
            "image/png": "[encoded data removed]",
            "text/plain": [
              "<Figure size 1000x600 with 1 Axes>"
            ]
          },
          "metadata": {},
          "output_type": "display_data"
        },
        {
          "data": {
            "image/png": "[encoded data removed]",
            "text/plain": [
              "<Figure size 1000x600 with 1 Axes>"
            ]
          },
          "metadata": {},
          "output_type": "display_data"
        },
        {
          "data": {
            "image/png": "[encoded data removed]",
            "text/plain": [
              "<Figure size 1200x600 with 1 Axes>"
            ]
          },
          "metadata": {},
          "output_type": "display_data"
        },
        {
          "data": {
            "image/png": "[encoded data removed]",
            "text/plain": [
              "<Figure size 1000x600 with 1 Axes>"
            ]
          },
          "metadata": {},
          "output_type": "display_data"
        },
        {
          "data": {
            "image/png": "[encoded data removed]",
            "text/plain": [
              "<Figure size 1000x600 with 1 Axes>"
            ]
          },
          "metadata": {},
          "output_type": "display_data"
        }
      ],
      "source": [
        "import seaborn as sns\n",
        "import matplotlib.pyplot as plt\n",
        "\n",
        "# Plot 1: Fraud distribution by Transaction Type\n",
        "plt.figure(figsize=(10, 6))\n",
        "sns.countplot(data=fraud, x='Transaction_Type', palette='pastel', order=fraud['Transaction_Type'].value_counts().index)\n",
        "plt.title('Fraud Distribution by Transaction Type')\n",
        "plt.xlabel('Transaction Type')\n",
        "plt.ylabel('Fraud Markers')\n",
        "plt.xticks(rotation=45, ha='right')\n",
        "plt.tight_layout()  # Adjust layout to prevent overlap\n",
        "plt.show()\n",
        "\n",
        "# Plot 2: Fraud distribution by Payment Gateway\n",
        "plt.figure(figsize=(10, 6))\n",
        "sns.countplot(data=fraud, x='Payment_Gateway', palette='pastel', order=fraud['Payment_Gateway'].value_counts().index)\n",
        "plt.title('Fraud Distribution by Payment Gateway')\n",
        "plt.xlabel('Payment Gateway')\n",
        "plt.ylabel('Fraud Markers')\n",
        "plt.xticks(rotation=45, ha='right')\n",
        "plt.tight_layout()  # Adjust layout to prevent overlap\n",
        "plt.show()\n",
        "\n",
        "# Plot 3: Fraud distribution by Merchant Category\n",
        "plt.figure(figsize=(12, 6))\n",
        "sns.countplot(data=fraud, x='Merchant_Category', palette='pastel', order=fraud['Merchant_Category'].value_counts().index)\n",
        "plt.title('Fraud Distribution by Merchant Category')\n",
        "plt.xlabel('Merchant Category')\n",
        "plt.ylabel('Fraud Markers')\n",
        "plt.xticks(rotation=45, ha='right')\n",
        "plt.tight_layout()  # Adjust layout to prevent overlap\n",
        "plt.show()\n",
        "\n",
        "# Plot 7: Relationship between Transaction_State and Fraud using bar plot\n",
        "plt.figure(figsize=(10, 6))\n",
        "sns.countplot(data=fraud, x='Transaction_State', palette='pastel', order=fraud['Transaction_State'].value_counts().index)\n",
        "plt.title('Fraud Distribution by Transaction State')\n",
        "plt.xlabel('Transaction State')\n",
        "plt.ylabel('Fraud Markers')\n",
        "plt.xticks(rotation=45, ha='right')\n",
        "plt.tight_layout()  # Adjust layout to prevent overlap\n",
        "plt.show()\n",
        "\n",
        "# Plot 8: Relationship between Device_OS and Fraud using bar plot\n",
        "plt.figure(figsize=(10, 6))\n",
        "sns.countplot(data=fraud, x='Device_OS', palette='pastel', order=fraud['Device_OS'].value_counts().index)\n",
        "plt.title('Fraud Distribution by Device OS')\n",
        "plt.xlabel('Device OS')\n",
        "plt.ylabel('Fraud Markers')\n",
        "plt.xticks(rotation=45, ha='right')\n",
        "plt.tight_layout()  # Adjust layout to prevent overlap\n",
        "plt.show()\n"
      ]
    },
    {
      "cell_type": "markdown",
      "metadata": {
        "id": "n9dtFMzvu7oB"
      },
      "source": [
        "### Insights from Exploratory Data Analysis for UPI Fraud Detection:\n",
        "\n",
        "- **Transaction Types**: Among different transaction types, such as bank transfers, purchases, and bill payments, fraudulent activities are prominently associated, indicating vulnerabilities across various transaction categories.\n",
        "\n",
        "- **Platforms**: Platforms like ICICI, HDFC, and GooglePay are notably prone to fraudulent transactions, suggesting a need for enhanced security measures or closer monitoring on these platforms.\n",
        "\n",
        "- **Merchant Categories**: Certain merchant categories, such as home delivery services, travel bookings, and utility payments, exhibit a higher incidence of fraudulent transactions, indicating potential areas of vulnerability within these sectors.\n",
        "\n",
        "- **Transaction Amounts**: Transactions falling within the range of 250 to 750 units demonstrate a heightened susceptibility to fraud, suggesting that fraudsters target transactions of moderate value to avoid detection.\n",
        "\n",
        "- **Temporal Trends**: Transactions with amounts ranging from 0 to 1250 units account for the majority of fraudulent activities between FY 23-24, emphasizing the importance of monitoring transactions within this range for potential fraud.\n",
        "\n",
        "- **Transaction Frequency**: Transactions occurring at a frequency of 0 to 10 instances show a higher propensity for fraud, indicating that fraudsters may exploit less frequent transactions to evade detection.\n",
        "\n",
        "- **Geographical Patterns**: Certain states, such as Himachal Pradesh, Rajasthan, Meghalaya, and Bihar, exhibit a higher sensitivity to fraudulent transactions, necessitating targeted interventions or heightened vigilance in these regions.\n",
        "\n",
        "- **Operating Systems**: Devices operating on the Android OS report a higher number of fraudulent transactions, underscoring potential security vulnerabilities within Android-based platforms or applications.\n",
        "\n",
        "- **Days Since Last Transaction**: The feature 'days since last transaction' does not yield discernible patterns and does not contribute significantly to the analysis, suggesting that it may be omitted from further modeling efforts to streamline the feature set.\n",
        "\n",
        "By leveraging these insights, stakeholders can implement targeted strategies to enhance fraud detection mechanisms, bolster security protocols, and mitigate potential risks associated with UPI transactions."
      ]
    },
    {
      "cell_type": "code",
      "execution_count": 87,
      "metadata": {
        "colab": {
          "base_uri": "https://localhost:8080/"
        },
        "id": "pSFDnj-Cu7oB",
        "outputId": "41061352-74ba-4ab3-be7d-a97e5e2f8ec4"
      },
      "outputs": [
        {
          "name": "stdout",
          "output_type": "stream",
          "text": [
            "<class 'pandas.core.frame.DataFrame'>\n",
            "Index: 774 entries, 88 to 49953\n",
            "Data columns (total 17 columns):\n",
            " #   Column                        Non-Null Count  Dtype  \n",
            "---  ------                        --------------  -----  \n",
            " 0   Date                          774 non-null    object \n",
            " 1   Time                          774 non-null    object \n",
            " 2   Transaction_Type              774 non-null    object \n",
            " 3   Payment_Gateway               774 non-null    object \n",
            " 4   Transaction_City              774 non-null    object \n",
            " 5   Transaction_State             774 non-null    object \n",
            " 6   Transaction_Status            774 non-null    object \n",
            " 7   Device_OS                     774 non-null    object \n",
            " 8   Transaction_Frequency         774 non-null    int64  \n",
            " 9   Merchant_Category             774 non-null    object \n",
            " 10  Transaction_Channel           774 non-null    object \n",
            " 11  Transaction_Amount_Deviation  774 non-null    float64\n",
            " 12  Days_Since_Last_Transaction   774 non-null    int64  \n",
            " 13  amount                        774 non-null    float64\n",
            " 14  fraud                         774 non-null    int64  \n",
            " 15  Year                          774 non-null    int32  \n",
            " 16  Month                         774 non-null    object \n",
            "dtypes: float64(2), int32(1), int64(3), object(11)\n",
            "memory usage: 105.8+ KB\n"
          ]
        }
      ],
      "source": [
        "fraud.info()"
      ]
    },
    {
      "cell_type": "markdown",
      "metadata": {
        "id": "PGg22ZtNu7oB"
      },
      "source": [
        "### Statistical analysis for feature importance :"
      ]
    },
    {
      "cell_type": "code",
      "execution_count": 88,
      "metadata": {
        "colab": {
          "base_uri": "https://localhost:8080/",
          "height": 383
        },
        "id": "QBTlBHRVu7oB",
        "outputId": "b16416d1-8140-4d8b-ee21-55d0faa84819"
      },
      "outputs": [
        {
          "data": {
            "text/html": [
              "<div>\n",
              "<style scoped>\n",
              "    .dataframe tbody tr th:only-of-type {\n",
              "        vertical-align: middle;\n",
              "    }\n",
              "\n",
              "    .dataframe tbody tr th {\n",
              "        vertical-align: top;\n",
              "    }\n",
              "\n",
              "    .dataframe thead th {\n",
              "        text-align: right;\n",
              "    }\n",
              "</style>\n",
              "<table border=\"1\" class=\"dataframe\">\n",
              "  <thead>\n",
              "    <tr style=\"text-align: right;\">\n",
              "      <th></th>\n",
              "      <th>Column</th>\n",
              "      <th>Chi-square statistic</th>\n",
              "      <th>p-value</th>\n",
              "      <th>Comment</th>\n",
              "      <th>Recommendation</th>\n",
              "    </tr>\n",
              "  </thead>\n",
              "  <tbody>\n",
              "    <tr>\n",
              "      <th>0</th>\n",
              "      <td>Date</td>\n",
              "      <td>331.327063</td>\n",
              "      <td>0.903126</td>\n",
              "      <td>No significant association with fraud</td>\n",
              "      <td>Can be removed</td>\n",
              "    </tr>\n",
              "    <tr>\n",
              "      <th>1</th>\n",
              "      <td>Time</td>\n",
              "      <td>28251.839772</td>\n",
              "      <td>1.000000</td>\n",
              "      <td>No significant association with fraud</td>\n",
              "      <td>Can be removed</td>\n",
              "    </tr>\n",
              "    <tr>\n",
              "      <th>2</th>\n",
              "      <td>Transaction_Type</td>\n",
              "      <td>6.939491</td>\n",
              "      <td>0.326479</td>\n",
              "      <td>No significant association with fraud</td>\n",
              "      <td>Can be removed</td>\n",
              "    </tr>\n",
              "    <tr>\n",
              "      <th>3</th>\n",
              "      <td>Payment_Gateway</td>\n",
              "      <td>8.522469</td>\n",
              "      <td>0.384165</td>\n",
              "      <td>No significant association with fraud</td>\n",
              "      <td>Can be removed</td>\n",
              "    </tr>\n",
              "    <tr>\n",
              "      <th>4</th>\n",
              "      <td>Transaction_City</td>\n",
              "      <td>344.186271</td>\n",
              "      <td>0.124028</td>\n",
              "      <td>No significant association with fraud</td>\n",
              "      <td>Can be removed</td>\n",
              "    </tr>\n",
              "    <tr>\n",
              "      <th>5</th>\n",
              "      <td>Transaction_State</td>\n",
              "      <td>27.170556</td>\n",
              "      <td>0.454622</td>\n",
              "      <td>No significant association with fraud</td>\n",
              "      <td>Can be removed</td>\n",
              "    </tr>\n",
              "    <tr>\n",
              "      <th>6</th>\n",
              "      <td>Transaction_Status</td>\n",
              "      <td>0.478872</td>\n",
              "      <td>0.787071</td>\n",
              "      <td>No significant association with fraud</td>\n",
              "      <td>Can be removed</td>\n",
              "    </tr>\n",
              "    <tr>\n",
              "      <th>7</th>\n",
              "      <td>Device_OS</td>\n",
              "      <td>2.041919</td>\n",
              "      <td>0.563752</td>\n",
              "      <td>No significant association with fraud</td>\n",
              "      <td>Can be removed</td>\n",
              "    </tr>\n",
              "    <tr>\n",
              "      <th>8</th>\n",
              "      <td>Merchant_Category</td>\n",
              "      <td>8.413997</td>\n",
              "      <td>0.493023</td>\n",
              "      <td>No significant association with fraud</td>\n",
              "      <td>Can be removed</td>\n",
              "    </tr>\n",
              "    <tr>\n",
              "      <th>9</th>\n",
              "      <td>Transaction_Channel</td>\n",
              "      <td>0.918124</td>\n",
              "      <td>0.631876</td>\n",
              "      <td>No significant association with fraud</td>\n",
              "      <td>Can be removed</td>\n",
              "    </tr>\n",
              "    <tr>\n",
              "      <th>10</th>\n",
              "      <td>Month</td>\n",
              "      <td>10.124728</td>\n",
              "      <td>0.519204</td>\n",
              "      <td>No significant association with fraud</td>\n",
              "      <td>Can be removed</td>\n",
              "    </tr>\n",
              "  </tbody>\n",
              "</table>\n",
              "</div>"
            ],
            "text/plain": [
              "                 Column  Chi-square statistic   p-value  \\\n",
              "0                  Date            331.327063  0.903126   \n",
              "1                  Time          28251.839772  1.000000   \n",
              "2      Transaction_Type              6.939491  0.326479   \n",
              "3       Payment_Gateway              8.522469  0.384165   \n",
              "4      Transaction_City            344.186271  0.124028   \n",
              "5     Transaction_State             27.170556  0.454622   \n",
              "6    Transaction_Status              0.478872  0.787071   \n",
              "7             Device_OS              2.041919  0.563752   \n",
              "8     Merchant_Category              8.413997  0.493023   \n",
              "9   Transaction_Channel              0.918124  0.631876   \n",
              "10                Month             10.124728  0.519204   \n",
              "\n",
              "                                  Comment  Recommendation  \n",
              "0   No significant association with fraud  Can be removed  \n",
              "1   No significant association with fraud  Can be removed  \n",
              "2   No significant association with fraud  Can be removed  \n",
              "3   No significant association with fraud  Can be removed  \n",
              "4   No significant association with fraud  Can be removed  \n",
              "5   No significant association with fraud  Can be removed  \n",
              "6   No significant association with fraud  Can be removed  \n",
              "7   No significant association with fraud  Can be removed  \n",
              "8   No significant association with fraud  Can be removed  \n",
              "9   No significant association with fraud  Can be removed  \n",
              "10  No significant association with fraud  Can be removed  "
            ]
          },
          "execution_count": 88,
          "metadata": {},
          "output_type": "execute_result"
        }
      ],
      "source": [
        "from scipy.stats import chi2_contingency\n",
        "import pandas as pd\n",
        "\n",
        "def chi_square_analysis(df, target_variable, alpha=0.05):\n",
        "    categorical_vars = df.select_dtypes(include=['object'])\n",
        "    results = []\n",
        "\n",
        "    for cat_var in categorical_vars:\n",
        "        contingency_table = pd.crosstab(df[cat_var], df[target_variable])\n",
        "        chi2, p, _, _ = chi2_contingency(contingency_table)\n",
        "\n",
        "        if p >= alpha:\n",
        "            comment = \"No significant association with \" + target_variable\n",
        "            recommendation = \"Can be removed\"\n",
        "        else:\n",
        "            comment = \"Significant association with \" + target_variable\n",
        "            recommendation = \"\"\n",
        "\n",
        "        results.append([cat_var, chi2, p, comment, recommendation])\n",
        "\n",
        "    results_df = pd.DataFrame(results, columns=['Column', 'Chi-square statistic', 'p-value', 'Comment', 'Recommendation'])\n",
        "    return results_df\n",
        "\n",
        "# Usage\n",
        "results_df = chi_square_analysis(df, 'fraud')\n",
        "results_df\n"
      ]
    },
    {
      "cell_type": "markdown",
      "metadata": {
        "id": "7UDsZvgpu7oC"
      },
      "source": [
        "### Inference:\n",
        "    - Below columns are not important and can be deleted\n",
        "    - Transaction_Status, Time, Date, Device_OS, Transaction_Channel"
      ]
    },
    {
      "cell_type": "markdown",
      "metadata": {
        "id": "3IdQkBTtu7oC"
      },
      "source": [
        "### Dropping unnecessary columns from entire dataset"
      ]
    },
    {
      "cell_type": "code",
      "execution_count": 89,
      "metadata": {
        "id": "d76MmPd-u7oC"
      },
      "outputs": [],
      "source": [
        "columns_to_drop = ['Days_Since_Last_Transaction', 'Transaction_Frequency', 'Transaction_Amount_Deviation',\n",
        "                   'Transaction_Status', 'Time', 'Date', 'Device_OS', 'Transaction_Channel']\n",
        "\n",
        "df.drop(columns=columns_to_drop, inplace=True)"
      ]
    },
    {
      "cell_type": "code",
      "execution_count": 90,
      "metadata": {
        "colab": {
          "base_uri": "https://localhost:8080/"
        },
        "id": "f4RI0k7Xu7oC",
        "outputId": "e3725b2f-e9bf-457f-b0a4-83ffa55b3728"
      },
      "outputs": [
        {
          "name": "stdout",
          "output_type": "stream",
          "text": [
            "<class 'pandas.core.frame.DataFrame'>\n",
            "RangeIndex: 50000 entries, 0 to 49999\n",
            "Data columns (total 9 columns):\n",
            " #   Column             Non-Null Count  Dtype  \n",
            "---  ------             --------------  -----  \n",
            " 0   Transaction_Type   50000 non-null  object \n",
            " 1   Payment_Gateway    50000 non-null  object \n",
            " 2   Transaction_City   50000 non-null  object \n",
            " 3   Transaction_State  50000 non-null  object \n",
            " 4   Merchant_Category  50000 non-null  object \n",
            " 5   amount             50000 non-null  float64\n",
            " 6   fraud              50000 non-null  int64  \n",
            " 7   Year               50000 non-null  int32  \n",
            " 8   Month              50000 non-null  object \n",
            "dtypes: float64(1), int32(1), int64(1), object(6)\n",
            "memory usage: 3.2+ MB\n"
          ]
        }
      ],
      "source": [
        "df.info()"
      ]
    },
    {
      "cell_type": "markdown",
      "metadata": {
        "id": "aopeiuwYu7oC"
      },
      "source": [
        "### ANOVA-test:\n",
        "    - Scenario: You can use a ANOVA-test to to determine whether there is a significant difference between fraud and non-fraud transactions."
      ]
    },
    {
      "cell_type": "code",
      "execution_count": 91,
      "metadata": {
        "colab": {
          "base_uri": "https://localhost:8080/",
          "height": 140
        },
        "id": "I4E8SBLYu7oC",
        "outputId": "fd8db525-5eb3-48ac-cc05-eca64595fa98"
      },
      "outputs": [
        {
          "data": {
            "text/html": [
              "<div>\n",
              "<style scoped>\n",
              "    .dataframe tbody tr th:only-of-type {\n",
              "        vertical-align: middle;\n",
              "    }\n",
              "\n",
              "    .dataframe tbody tr th {\n",
              "        vertical-align: top;\n",
              "    }\n",
              "\n",
              "    .dataframe thead th {\n",
              "        text-align: right;\n",
              "    }\n",
              "</style>\n",
              "<table border=\"1\" class=\"dataframe\">\n",
              "  <thead>\n",
              "    <tr style=\"text-align: right;\">\n",
              "      <th></th>\n",
              "      <th>Column</th>\n",
              "      <th>F-statistic</th>\n",
              "      <th>p-value</th>\n",
              "      <th>Comment</th>\n",
              "      <th>Recommendation</th>\n",
              "    </tr>\n",
              "  </thead>\n",
              "  <tbody>\n",
              "    <tr>\n",
              "      <th>0</th>\n",
              "      <td>amount</td>\n",
              "      <td>1.456688e+04</td>\n",
              "      <td>0.000000</td>\n",
              "      <td>Significant difference in amount between fraud...</td>\n",
              "      <td></td>\n",
              "    </tr>\n",
              "    <tr>\n",
              "      <th>1</th>\n",
              "      <td>fraud</td>\n",
              "      <td>inf</td>\n",
              "      <td>0.000000</td>\n",
              "      <td>Significant difference in fraud between fraud ...</td>\n",
              "      <td></td>\n",
              "    </tr>\n",
              "    <tr>\n",
              "      <th>2</th>\n",
              "      <td>Year</td>\n",
              "      <td>2.163681e-02</td>\n",
              "      <td>0.883058</td>\n",
              "      <td>No significant difference in Year between frau...</td>\n",
              "      <td>Can be removed</td>\n",
              "    </tr>\n",
              "  </tbody>\n",
              "</table>\n",
              "</div>"
            ],
            "text/plain": [
              "   Column   F-statistic   p-value  \\\n",
              "0  amount  1.456688e+04  0.000000   \n",
              "1   fraud           inf  0.000000   \n",
              "2    Year  2.163681e-02  0.883058   \n",
              "\n",
              "                                             Comment  Recommendation  \n",
              "0  Significant difference in amount between fraud...                  \n",
              "1  Significant difference in fraud between fraud ...                  \n",
              "2  No significant difference in Year between frau...  Can be removed  "
            ]
          },
          "execution_count": 91,
          "metadata": {},
          "output_type": "execute_result"
        }
      ],
      "source": [
        "from scipy.stats import f_oneway\n",
        "import pandas as pd\n",
        "\n",
        "def anova_analysis(df, target_variable, alpha=0.05):\n",
        "    numerical_vars = df.select_dtypes(include=['int64', 'float64','int32'])\n",
        "    results = []\n",
        "\n",
        "    for num_var in numerical_vars:\n",
        "        groups = df.groupby(target_variable)[num_var].apply(list)\n",
        "        f_statistic, p_value = f_oneway(*groups)\n",
        "\n",
        "        if p_value < alpha:\n",
        "            comment = f\"Significant difference in {num_var} between fraud and non-fraud transactions\"\n",
        "            recommendation = \"\"\n",
        "        else:\n",
        "            comment = f\"No significant difference in {num_var} between fraud and non-fraud transactions\"\n",
        "            recommendation = \"Can be removed\"\n",
        "\n",
        "        results.append([num_var, f_statistic, p_value, comment, recommendation])\n",
        "\n",
        "    results_df = pd.DataFrame(results, columns=['Column', 'F-statistic', 'p-value', 'Comment', 'Recommendation'])\n",
        "    return results_df\n",
        "\n",
        "# Usage\n",
        "results_df = anova_analysis(df, 'fraud')\n",
        "results_df\n"
      ]
    },
    {
      "cell_type": "code",
      "execution_count": 92,
      "metadata": {
        "colab": {
          "base_uri": "https://localhost:8080/"
        },
        "id": "sxNVcRJFu7oC",
        "outputId": "08afd4a9-2137-4aeb-bfce-4da4437bfaaf"
      },
      "outputs": [
        {
          "data": {
            "text/plain": [
              "Index(['Transaction_Type', 'Payment_Gateway', 'Transaction_City',\n",
              "       'Transaction_State', 'Merchant_Category', 'amount', 'fraud', 'Year',\n",
              "       'Month'],\n",
              "      dtype='object')"
            ]
          },
          "execution_count": 92,
          "metadata": {},
          "output_type": "execute_result"
        }
      ],
      "source": [
        "df.columns"
      ]
    },
    {
      "cell_type": "markdown",
      "metadata": {
        "id": "n9HX5BTuu7oC"
      },
      "source": [
        "### Encoding and scaling"
      ]
    },
    {
      "cell_type": "code",
      "execution_count": 93,
      "metadata": {
        "id": "5C6h2BvKu7oD"
      },
      "outputs": [],
      "source": [
        "data = df.copy()"
      ]
    },
    {
      "cell_type": "code",
      "execution_count": 94,
      "metadata": {
        "colab": {
          "base_uri": "https://localhost:8080/"
        },
        "id": "iSVvLgCnu7oD",
        "outputId": "4183d1bb-1d45-4b5a-c921-819c35189a37"
      },
      "outputs": [
        {
          "name": "stdout",
          "output_type": "stream",
          "text": [
            "<class 'pandas.core.frame.DataFrame'>\n",
            "RangeIndex: 50000 entries, 0 to 49999\n",
            "Data columns (total 9 columns):\n",
            " #   Column             Non-Null Count  Dtype  \n",
            "---  ------             --------------  -----  \n",
            " 0   Transaction_Type   50000 non-null  object \n",
            " 1   Payment_Gateway    50000 non-null  object \n",
            " 2   Transaction_City   50000 non-null  object \n",
            " 3   Transaction_State  50000 non-null  object \n",
            " 4   Merchant_Category  50000 non-null  object \n",
            " 5   amount             50000 non-null  float64\n",
            " 6   fraud              50000 non-null  int64  \n",
            " 7   Year               50000 non-null  int32  \n",
            " 8   Month              50000 non-null  object \n",
            "dtypes: float64(1), int32(1), int64(1), object(6)\n",
            "memory usage: 3.2+ MB\n"
          ]
        }
      ],
      "source": [
        "data.info()"
      ]
    },
    {
      "cell_type": "code",
      "execution_count": 95,
      "metadata": {
        "id": "hCfQ0TYpu7oD"
      },
      "outputs": [],
      "source": [
        "# Converting Year column to object\n",
        "data['Year'] = data['Year'].astype('object')"
      ]
    },
    {
      "cell_type": "code",
      "execution_count": 96,
      "metadata": {
        "colab": {
          "base_uri": "https://localhost:8080/"
        },
        "id": "nvALxaaLu7oD",
        "outputId": "a122cacd-31db-44a3-92ec-9e3a268de5b7"
      },
      "outputs": [
        {
          "data": {
            "text/plain": [
              "Index(['Transaction_Type', 'Payment_Gateway', 'Transaction_City',\n",
              "       'Transaction_State', 'Merchant_Category', 'Year', 'Month'],\n",
              "      dtype='object')"
            ]
          },
          "execution_count": 96,
          "metadata": {},
          "output_type": "execute_result"
        }
      ],
      "source": [
        "# Extracting categorical columns from data\n",
        "categorical_cols = data.select_dtypes(include=['object']).columns\n",
        "\n",
        "categorical_cols"
      ]
    },
    {
      "cell_type": "code",
      "execution_count": 97,
      "metadata": {
        "id": "gu8LNm3au7oD"
      },
      "outputs": [],
      "source": [
        "from sklearn.preprocessing import LabelEncoder\n",
        "\n",
        "cols = ['Year','Month']\n",
        "\n",
        "label_encoder = LabelEncoder()\n",
        "for col in cols:\n",
        "    data[col] = label_encoder.fit_transform(data[col])"
      ]
    },
    {
      "cell_type": "code",
      "execution_count": 98,
      "metadata": {
        "id": "O7iajvK2u7oD"
      },
      "outputs": [],
      "source": [
        "# Numerical columns\n",
        "non_ordinal = ['Transaction_Type', 'Payment_Gateway', 'Transaction_City','Transaction_State','Merchant_Category']\n",
        "\n",
        "# performing one hot encoding for non_ordinal variables\n",
        "data = pd.get_dummies(data, columns=non_ordinal, drop_first=True)\n",
        "\n",
        "# Convert boolean columns to integers\n",
        "data = data.astype(int)"
      ]
    },
    {
      "cell_type": "code",
      "execution_count": 99,
      "metadata": {
        "colab": {
          "base_uri": "https://localhost:8080/",
          "height": 265
        },
        "id": "PIoBXjL0u7oD",
        "outputId": "badcc1f3-2258-41fe-b651-a7407bc46981"
      },
      "outputs": [
        {
          "data": {
            "text/html": [
              "<div>\n",
              "<style scoped>\n",
              "    .dataframe tbody tr th:only-of-type {\n",
              "        vertical-align: middle;\n",
              "    }\n",
              "\n",
              "    .dataframe tbody tr th {\n",
              "        vertical-align: top;\n",
              "    }\n",
              "\n",
              "    .dataframe thead th {\n",
              "        text-align: right;\n",
              "    }\n",
              "</style>\n",
              "<table border=\"1\" class=\"dataframe\">\n",
              "  <thead>\n",
              "    <tr style=\"text-align: right;\">\n",
              "      <th></th>\n",
              "      <th>amount</th>\n",
              "      <th>fraud</th>\n",
              "      <th>Year</th>\n",
              "      <th>Month</th>\n",
              "      <th>Transaction_Type_Bill Payment</th>\n",
              "      <th>Transaction_Type_Investment</th>\n",
              "      <th>Transaction_Type_Other</th>\n",
              "      <th>Transaction_Type_Purchase</th>\n",
              "      <th>Transaction_Type_Refund</th>\n",
              "      <th>Transaction_Type_Subscription</th>\n",
              "      <th>...</th>\n",
              "      <th>Transaction_State_West Bengal</th>\n",
              "      <th>Merchant_Category_Donations and Devotion</th>\n",
              "      <th>Merchant_Category_Financial services and Taxes</th>\n",
              "      <th>Merchant_Category_Home delivery</th>\n",
              "      <th>Merchant_Category_Investment</th>\n",
              "      <th>Merchant_Category_More Services</th>\n",
              "      <th>Merchant_Category_Other</th>\n",
              "      <th>Merchant_Category_Purchases</th>\n",
              "      <th>Merchant_Category_Travel bookings</th>\n",
              "      <th>Merchant_Category_Utilities</th>\n",
              "    </tr>\n",
              "  </thead>\n",
              "  <tbody>\n",
              "    <tr>\n",
              "      <th>0</th>\n",
              "      <td>4</td>\n",
              "      <td>0</td>\n",
              "      <td>0</td>\n",
              "      <td>10</td>\n",
              "      <td>0</td>\n",
              "      <td>0</td>\n",
              "      <td>0</td>\n",
              "      <td>1</td>\n",
              "      <td>0</td>\n",
              "      <td>0</td>\n",
              "      <td>...</td>\n",
              "      <td>0</td>\n",
              "      <td>0</td>\n",
              "      <td>0</td>\n",
              "      <td>0</td>\n",
              "      <td>0</td>\n",
              "      <td>0</td>\n",
              "      <td>0</td>\n",
              "      <td>0</td>\n",
              "      <td>1</td>\n",
              "      <td>0</td>\n",
              "    </tr>\n",
              "    <tr>\n",
              "      <th>1</th>\n",
              "      <td>39</td>\n",
              "      <td>0</td>\n",
              "      <td>0</td>\n",
              "      <td>8</td>\n",
              "      <td>0</td>\n",
              "      <td>0</td>\n",
              "      <td>0</td>\n",
              "      <td>0</td>\n",
              "      <td>0</td>\n",
              "      <td>0</td>\n",
              "      <td>...</td>\n",
              "      <td>0</td>\n",
              "      <td>0</td>\n",
              "      <td>1</td>\n",
              "      <td>0</td>\n",
              "      <td>0</td>\n",
              "      <td>0</td>\n",
              "      <td>0</td>\n",
              "      <td>0</td>\n",
              "      <td>0</td>\n",
              "      <td>0</td>\n",
              "    </tr>\n",
              "    <tr>\n",
              "      <th>2</th>\n",
              "      <td>26</td>\n",
              "      <td>0</td>\n",
              "      <td>1</td>\n",
              "      <td>4</td>\n",
              "      <td>1</td>\n",
              "      <td>0</td>\n",
              "      <td>0</td>\n",
              "      <td>0</td>\n",
              "      <td>0</td>\n",
              "      <td>0</td>\n",
              "      <td>...</td>\n",
              "      <td>0</td>\n",
              "      <td>0</td>\n",
              "      <td>1</td>\n",
              "      <td>0</td>\n",
              "      <td>0</td>\n",
              "      <td>0</td>\n",
              "      <td>0</td>\n",
              "      <td>0</td>\n",
              "      <td>0</td>\n",
              "      <td>0</td>\n",
              "    </tr>\n",
              "    <tr>\n",
              "      <th>3</th>\n",
              "      <td>17</td>\n",
              "      <td>0</td>\n",
              "      <td>0</td>\n",
              "      <td>11</td>\n",
              "      <td>0</td>\n",
              "      <td>0</td>\n",
              "      <td>1</td>\n",
              "      <td>0</td>\n",
              "      <td>0</td>\n",
              "      <td>0</td>\n",
              "      <td>...</td>\n",
              "      <td>0</td>\n",
              "      <td>0</td>\n",
              "      <td>0</td>\n",
              "      <td>0</td>\n",
              "      <td>0</td>\n",
              "      <td>0</td>\n",
              "      <td>0</td>\n",
              "      <td>0</td>\n",
              "      <td>0</td>\n",
              "      <td>1</td>\n",
              "    </tr>\n",
              "    <tr>\n",
              "      <th>4</th>\n",
              "      <td>35</td>\n",
              "      <td>0</td>\n",
              "      <td>0</td>\n",
              "      <td>1</td>\n",
              "      <td>0</td>\n",
              "      <td>0</td>\n",
              "      <td>1</td>\n",
              "      <td>0</td>\n",
              "      <td>0</td>\n",
              "      <td>0</td>\n",
              "      <td>...</td>\n",
              "      <td>1</td>\n",
              "      <td>0</td>\n",
              "      <td>0</td>\n",
              "      <td>0</td>\n",
              "      <td>0</td>\n",
              "      <td>0</td>\n",
              "      <td>1</td>\n",
              "      <td>0</td>\n",
              "      <td>0</td>\n",
              "      <td>0</td>\n",
              "    </tr>\n",
              "  </tbody>\n",
              "</table>\n",
              "<p>5 rows × 369 columns</p>\n",
              "</div>"
            ],
            "text/plain": [
              "   amount  fraud  Year  Month  Transaction_Type_Bill Payment  \\\n",
              "0       4      0     0     10                              0   \n",
              "1      39      0     0      8                              0   \n",
              "2      26      0     1      4                              1   \n",
              "3      17      0     0     11                              0   \n",
              "4      35      0     0      1                              0   \n",
              "\n",
              "   Transaction_Type_Investment  Transaction_Type_Other  \\\n",
              "0                            0                       0   \n",
              "1                            0                       0   \n",
              "2                            0                       0   \n",
              "3                            0                       1   \n",
              "4                            0                       1   \n",
              "\n",
              "   Transaction_Type_Purchase  Transaction_Type_Refund  \\\n",
              "0                          1                        0   \n",
              "1                          0                        0   \n",
              "2                          0                        0   \n",
              "3                          0                        0   \n",
              "4                          0                        0   \n",
              "\n",
              "   Transaction_Type_Subscription  ...  Transaction_State_West Bengal  \\\n",
              "0                              0  ...                              0   \n",
              "1                              0  ...                              0   \n",
              "2                              0  ...                              0   \n",
              "3                              0  ...                              0   \n",
              "4                              0  ...                              1   \n",
              "\n",
              "   Merchant_Category_Donations and Devotion  \\\n",
              "0                                         0   \n",
              "1                                         0   \n",
              "2                                         0   \n",
              "3                                         0   \n",
              "4                                         0   \n",
              "\n",
              "   Merchant_Category_Financial services and Taxes  \\\n",
              "0                                               0   \n",
              "1                                               1   \n",
              "2                                               1   \n",
              "3                                               0   \n",
              "4                                               0   \n",
              "\n",
              "   Merchant_Category_Home delivery  Merchant_Category_Investment  \\\n",
              "0                                0                             0   \n",
              "1                                0                             0   \n",
              "2                                0                             0   \n",
              "3                                0                             0   \n",
              "4                                0                             0   \n",
              "\n",
              "   Merchant_Category_More Services  Merchant_Category_Other  \\\n",
              "0                                0                        0   \n",
              "1                                0                        0   \n",
              "2                                0                        0   \n",
              "3                                0                        0   \n",
              "4                                0                        1   \n",
              "\n",
              "   Merchant_Category_Purchases  Merchant_Category_Travel bookings  \\\n",
              "0                            0                                  1   \n",
              "1                            0                                  0   \n",
              "2                            0                                  0   \n",
              "3                            0                                  0   \n",
              "4                            0                                  0   \n",
              "\n",
              "   Merchant_Category_Utilities  \n",
              "0                            0  \n",
              "1                            0  \n",
              "2                            0  \n",
              "3                            1  \n",
              "4                            0  \n",
              "\n",
              "[5 rows x 369 columns]"
            ]
          },
          "execution_count": 99,
          "metadata": {},
          "output_type": "execute_result"
        }
      ],
      "source": [
        "data.head()"
      ]
    },
    {
      "cell_type": "code",
      "execution_count": 100,
      "metadata": {
        "colab": {
          "base_uri": "https://localhost:8080/"
        },
        "id": "s1wsFTwtu7oD",
        "outputId": "01bbbc56-7ab5-4ddb-a093-47a1ed8a33d3"
      },
      "outputs": [
        {
          "data": {
            "text/plain": [
              "amount                               int64\n",
              "fraud                                int64\n",
              "Year                                 int64\n",
              "Month                                int64\n",
              "Transaction_Type_Bill Payment        int64\n",
              "                                     ...  \n",
              "Merchant_Category_More Services      int64\n",
              "Merchant_Category_Other              int64\n",
              "Merchant_Category_Purchases          int64\n",
              "Merchant_Category_Travel bookings    int64\n",
              "Merchant_Category_Utilities          int64\n",
              "Length: 369, dtype: object"
            ]
          },
          "execution_count": 100,
          "metadata": {},
          "output_type": "execute_result"
        }
      ],
      "source": [
        "data.dtypes"
      ]
    },
    {
      "cell_type": "code",
      "execution_count": 101,
      "metadata": {
        "colab": {
          "base_uri": "https://localhost:8080/"
        },
        "id": "_lkUjl_9u7oE",
        "outputId": "89425e3c-3bd4-4889-981c-fdd1d9dded9b"
      },
      "outputs": [
        {
          "data": {
            "text/plain": [
              "(50000, 369)"
            ]
          },
          "execution_count": 101,
          "metadata": {},
          "output_type": "execute_result"
        }
      ],
      "source": [
        "data.shape"
      ]
    },
    {
      "cell_type": "markdown",
      "metadata": {
        "id": "6gCXBdSbu7oE"
      },
      "source": [
        "## To improve the computational effeciency, taking 50% of the entire data for model building and testing keeping the ratio intact"
      ]
    },
    {
      "cell_type": "code",
      "execution_count": 102,
      "metadata": {
        "id": "wdXwyZ16u7oE"
      },
      "outputs": [],
      "source": [
        "import pandas as pd\n",
        "from sklearn.model_selection import train_test_split\n",
        "\n",
        "# Split the data into 'fraud' and 'non-fraud' classes\n",
        "fraud_data = data[data['fraud'] == 1]\n",
        "non_fraud_data = data[data['fraud'] == 0]\n",
        "\n",
        "# Sample each class separately while maintaining proportions\n",
        "sampled_fraud_data = fraud_data.sample(frac=0.5, random_state=42)\n",
        "sampled_non_fraud_data = non_fraud_data.sample(frac=0.5, random_state=42)\n",
        "\n",
        "# Combine the sampled data back together\n",
        "data = pd.concat([sampled_fraud_data, sampled_non_fraud_data])\n",
        "\n"
      ]
    },
    {
      "cell_type": "markdown",
      "metadata": {
        "id": "h6jMxmWFu7oE"
      },
      "source": [
        "### Model Building"
      ]
    },
    {
      "cell_type": "code",
      "execution_count": 103,
      "metadata": {
        "colab": {
          "base_uri": "https://localhost:8080/"
        },
        "id": "EKdOUV3Mu7oE",
        "outputId": "68ac0c72-67a0-44d4-ba3f-a961ac8065c4"
      },
      "outputs": [
        {
          "name": "stdout",
          "output_type": "stream",
          "text": [
            "Training features shape: (20000, 368)\n",
            "Test features shape: (5000, 368)\n",
            "Training target shape: (20000,)\n",
            "Test target shape: (5000,)\n"
          ]
        }
      ],
      "source": [
        "from sklearn.model_selection import train_test_split\n",
        "from sklearn.preprocessing import StandardScaler\n",
        "\n",
        "# Perform scaling\n",
        "def preprocess_data(X):\n",
        "\n",
        "    # Initialize StandardScaler\n",
        "    scaler = StandardScaler()\n",
        "\n",
        "    # Scale the features\n",
        "    X_scaled = scaler.fit_transform(X)\n",
        "    return X_scaled\n",
        "\n",
        "# Splitting the dataset into features (X) and target variable (y)\n",
        "X = data.drop('fraud', axis=1)\n",
        "y = data['fraud']\n",
        "\n",
        "# Preprocess the features\n",
        "X_scaled = preprocess_data(X)\n",
        "\n",
        "# Split the preprocessed data into the Training set and Test set\n",
        "X_train, X_test, y_train, y_test = train_test_split(X_scaled, y, test_size=0.2, random_state=42)\n",
        "\n",
        "# Print the shapes of the training and test sets\n",
        "print(\"Training features shape:\", X_train.shape)\n",
        "print(\"Test features shape:\", X_test.shape)\n",
        "print(\"Training target shape:\", y_train.shape)\n",
        "print(\"Test target shape:\", y_test.shape)\n"
      ]
    },
    {
      "cell_type": "markdown",
      "metadata": {
        "id": "10ycTzP4u7oE"
      },
      "source": [
        "### Model performance before data balancing. i.e, with RAW data"
      ]
    },
    {
      "cell_type": "code",
      "execution_count": 117,
      "metadata": {
        "colab": {
          "base_uri": "https://localhost:8080/",
          "height": 236
        },
        "id": "LEIzczMqu7oE",
        "outputId": "f9e3cbb4-eda7-4824-ddba-265d76e124e3",
        "scrolled": true
      },
      "outputs": [
        {
          "name": "stdout",
          "output_type": "stream",
          "text": [
            "Decision Tree:\n",
            "Random Forest:\n",
            "Gradient Boosting:\n",
            "XGBoost:\n"
          ]
        },
        {
          "data": {
            "text/html": [
              "<div>\n",
              "<style scoped>\n",
              "    .dataframe tbody tr th:only-of-type {\n",
              "        vertical-align: middle;\n",
              "    }\n",
              "\n",
              "    .dataframe tbody tr th {\n",
              "        vertical-align: top;\n",
              "    }\n",
              "\n",
              "    .dataframe thead th {\n",
              "        text-align: right;\n",
              "    }\n",
              "</style>\n",
              "<table border=\"1\" class=\"dataframe\">\n",
              "  <thead>\n",
              "    <tr style=\"text-align: right;\">\n",
              "      <th></th>\n",
              "      <th>Model</th>\n",
              "      <th>Accuracy</th>\n",
              "      <th>Precision</th>\n",
              "      <th>Recall</th>\n",
              "      <th>F1 Score</th>\n",
              "      <th>ROC AUC Score</th>\n",
              "    </tr>\n",
              "  </thead>\n",
              "  <tbody>\n",
              "    <tr>\n",
              "      <th>0</th>\n",
              "      <td>DecisionTreeClassifier</td>\n",
              "      <td>0.9880</td>\n",
              "      <td>0.619718</td>\n",
              "      <td>0.571429</td>\n",
              "      <td>0.594595</td>\n",
              "      <td>0.782972</td>\n",
              "    </tr>\n",
              "    <tr>\n",
              "      <th>1</th>\n",
              "      <td>RandomForestClassifier</td>\n",
              "      <td>0.9924</td>\n",
              "      <td>0.842105</td>\n",
              "      <td>0.623377</td>\n",
              "      <td>0.716418</td>\n",
              "      <td>0.810774</td>\n",
              "    </tr>\n",
              "    <tr>\n",
              "      <th>2</th>\n",
              "      <td>GradientBoostingClassifier</td>\n",
              "      <td>0.9908</td>\n",
              "      <td>0.771930</td>\n",
              "      <td>0.571429</td>\n",
              "      <td>0.656716</td>\n",
              "      <td>0.784394</td>\n",
              "    </tr>\n",
              "    <tr>\n",
              "      <th>3</th>\n",
              "      <td>XGBClassifier</td>\n",
              "      <td>0.9900</td>\n",
              "      <td>0.714286</td>\n",
              "      <td>0.584416</td>\n",
              "      <td>0.642857</td>\n",
              "      <td>0.790380</td>\n",
              "    </tr>\n",
              "  </tbody>\n",
              "</table>\n",
              "</div>"
            ],
            "text/plain": [
              "                        Model  Accuracy  Precision    Recall  F1 Score  \\\n",
              "0      DecisionTreeClassifier    0.9880   0.619718  0.571429  0.594595   \n",
              "1      RandomForestClassifier    0.9924   0.842105  0.623377  0.716418   \n",
              "2  GradientBoostingClassifier    0.9908   0.771930  0.571429  0.656716   \n",
              "3               XGBClassifier    0.9900   0.714286  0.584416  0.642857   \n",
              "\n",
              "   ROC AUC Score  \n",
              "0       0.782972  \n",
              "1       0.810774  \n",
              "2       0.784394  \n",
              "3       0.790380  "
            ]
          },
          "execution_count": 117,
          "metadata": {},
          "output_type": "execute_result"
        }
      ],
      "source": [
        "import pandas as pd\n",
        "from sklearn.model_selection import train_test_split\n",
        "from sklearn.metrics import accuracy_score, precision_score, recall_score, f1_score, roc_auc_score\n",
        "from sklearn.tree import DecisionTreeClassifier\n",
        "from sklearn.ensemble import RandomForestClassifier, GradientBoostingClassifier\n",
        "from xgboost import XGBClassifier  # Import XGBoost classifier\n",
        "\n",
        "# Assuming you have already loaded your data into X and y\n",
        "\n",
        "# Split the sampled data into training and testing sets with a test size of 30%\n",
        "X_train, X_test, y_train, y_test = train_test_split(X, y, test_size=0.2, random_state=42, stratify=y)\n",
        "\n",
        "# Define a function to evaluate a model and return a dictionary of metrics\n",
        "def evaluate_model(model, X_test, y_test):\n",
        "    # Calculate predictions\n",
        "    y_pred = model.predict(X_test)\n",
        "\n",
        "    # Compute metrics\n",
        "    accuracy = accuracy_score(y_test, y_pred)\n",
        "    precision = precision_score(y_test, y_pred)\n",
        "    recall = recall_score(y_test, y_pred)\n",
        "    f1 = f1_score(y_test, y_pred)\n",
        "    roc_auc = roc_auc_score(y_test, y_pred)\n",
        "\n",
        "    # Return metrics as a dictionary\n",
        "    return {\n",
        "        'Model': type(model).__name__,\n",
        "        'Accuracy': accuracy,\n",
        "        'Precision': precision,\n",
        "        'Recall': recall,\n",
        "        'F1 Score': f1,\n",
        "        'ROC AUC Score': roc_auc\n",
        "    }\n",
        "\n",
        "# Define models without Support Vector Machine (SVM)\n",
        "models = {\n",
        "    \"Decision Tree\": DecisionTreeClassifier(),\n",
        "    \"Random Forest\": RandomForestClassifier(),\n",
        "    \"Gradient Boosting\": GradientBoostingClassifier(),\n",
        "    \"XGBoost\": XGBClassifier(),  # Added XGBoost to the dictionary\n",
        "}\n",
        "\n",
        "# List to store evaluation results\n",
        "results = []\n",
        "\n",
        "# Model Training and Evaluation\n",
        "for model_name, model in models.items():\n",
        "    print(model_name + \":\")\n",
        "    model.fit(X_train, y_train)  # Assuming X_train, y_train are defined\n",
        "    metrics = evaluate_model(model, X_test, y_test)  # Assuming X_test, y_test are defined\n",
        "    results.append(metrics)\n",
        "\n",
        "# Create a DataFrame from the results\n",
        "df_results = pd.DataFrame(results)\n",
        "\n",
        "# Display the DataFrame\n",
        "df_results\n"
      ]
    },
    {
      "cell_type": "markdown",
      "metadata": {
        "id": "3h1bXRuBu7oE"
      },
      "source": [
        "### Inferences\n",
        "\n",
        "- **Accuracy**: All models achieved high accuracy, ranging from 98.76% to 99.28%, indicating their proficiency in classifying transactions. However, accuracy alone might not provide a complete picture, especially in cases of imbalanced datasets like fraud detection.\n",
        "\n",
        "- **Precision and Recall**: Precision measures the percentage of correctly predicted positive instances among all predicted positive instances, while recall measures the percentage of correctly predicted positive instances among all actual positive instances.\n",
        "\n",
        "- **F1 Score**: The F1 score, the harmonic mean of precision and recall, offers a balanced assessment of the model's performance. It is particularly useful in scenarios with class imbalance, such as fraud detection.\n",
        "\n",
        "- **ROC AUC Score**: The ROC AUC (Receiver Operating Characteristic Area Under the Curve) score evaluates the model's ability to discriminate between classes. Higher ROC AUC scores indicate better performance.\n",
        "\n",
        "- **Model Performance**: While all models demonstrated strong performance, the Random Forest Classifier and XGBoost Classifier stood out. The Random Forest Classifier achieved an F1 score of 73.13% with an accuracy of 99.28%, indicating its ability to balance precision and recall effectively. On the other hand, the XGBoost Classifier surpassed all others with an F1 score of 64.29%, highlighting its robust performance.\n",
        "\n",
        "- **Decision Tree and Gradient Boosting**: Although the Decision Tree Classifier and Gradient Boosting Classifier exhibited competitive performance, they slightly lagged behind the Random Forest and XGBoost classifiers in terms of F1 score.\n",
        "\n",
        "- **Overall Recommendation**: Considering the F1 score and overall performance, the Random Forest Classifier emerges as the top choice for fraud detection in this scenario. However, the XGBoost Classifier also offers a strong alternative, particularly when computational efficiency is a concern. Both models provide effective solutions for identifying fraudulent transactions, with the Random Forest Classifier leading with the highest F1 score."
      ]
    },
    {
      "cell_type": "markdown",
      "metadata": {
        "id": "LN1Yqbeku7oF"
      },
      "source": [
        "## Balancing the data : There are two well-known techniques to deal with highly imbalanced datasets:\n",
        "    - Undersampling technique\n",
        "    - Oversampling(SMOTE)\n",
        "    - We attempted the undersampling. However, due to its poor performance, we moved on to oversampling technique(SMOTE)"
      ]
    },
    {
      "cell_type": "markdown",
      "metadata": {
        "id": "qgD1LkFIu7oF"
      },
      "source": [
        "### Oversampling (SMOTE)"
      ]
    },
    {
      "cell_type": "code",
      "execution_count": 106,
      "metadata": {
        "id": "IMJTjxnZu7oF"
      },
      "outputs": [],
      "source": [
        "X = data.drop('fraud',axis=1)\n",
        "y = data['fraud']"
      ]
    },
    {
      "cell_type": "code",
      "execution_count": 107,
      "metadata": {
        "colab": {
          "base_uri": "https://localhost:8080/"
        },
        "id": "zbibES3bu7oF",
        "outputId": "fc125784-2372-4c60-b61d-f35842c323af"
      },
      "outputs": [
        {
          "data": {
            "text/plain": [
              "(25000, 368)"
            ]
          },
          "execution_count": 107,
          "metadata": {},
          "output_type": "execute_result"
        }
      ],
      "source": [
        "X.shape"
      ]
    },
    {
      "cell_type": "code",
      "execution_count": 108,
      "metadata": {
        "colab": {
          "base_uri": "https://localhost:8080/"
        },
        "id": "11Ec9D8ju7oF",
        "outputId": "f235c951-6ca1-4eaf-b2c5-3b15796d9114"
      },
      "outputs": [
        {
          "data": {
            "text/plain": [
              "(25000,)"
            ]
          },
          "execution_count": 108,
          "metadata": {},
          "output_type": "execute_result"
        }
      ],
      "source": [
        "y.shape"
      ]
    },
    {
      "cell_type": "code",
      "execution_count": 109,
      "metadata": {
        "colab": {
          "base_uri": "https://localhost:8080/"
        },
        "id": "o33DpD1Du7oF",
        "outputId": "b1fe6bd6-04e0-4ced-a3c4-5829e5eeeb47"
      },
      "outputs": [
        {
          "name": "stdout",
          "output_type": "stream",
          "text": [
            "fraud\n",
            "1    24613\n",
            "0    24613\n",
            "Name: count, dtype: int64\n"
          ]
        }
      ],
      "source": [
        "from imblearn.over_sampling import SMOTE\n",
        "\n",
        "# Using SMOTE to oversample the minority class\n",
        "X_res, y_res = SMOTE().fit_resample(X, y)\n",
        "\n",
        "# Print the count of each class after oversampling\n",
        "print(y_res.value_counts())\n"
      ]
    },
    {
      "cell_type": "markdown",
      "metadata": {
        "id": "j1o_Rvb9u7oF"
      },
      "source": [
        "## Model performance post data balancing"
      ]
    },
    {
      "cell_type": "code",
      "execution_count": 110,
      "metadata": {
        "colab": {
          "base_uri": "https://localhost:8080/",
          "height": 236
        },
        "id": "AziKaefGu7oF",
        "outputId": "769de0d5-ba91-41c3-a0b4-dbd78f14dbcf"
      },
      "outputs": [
        {
          "name": "stdout",
          "output_type": "stream",
          "text": [
            "Decision Tree:\n",
            "Random Forest:\n",
            "Gradient Boosting:\n",
            "XGBoost:\n"
          ]
        },
        {
          "data": {
            "text/html": [
              "<div>\n",
              "<style scoped>\n",
              "    .dataframe tbody tr th:only-of-type {\n",
              "        vertical-align: middle;\n",
              "    }\n",
              "\n",
              "    .dataframe tbody tr th {\n",
              "        vertical-align: top;\n",
              "    }\n",
              "\n",
              "    .dataframe thead th {\n",
              "        text-align: right;\n",
              "    }\n",
              "</style>\n",
              "<table border=\"1\" class=\"dataframe\">\n",
              "  <thead>\n",
              "    <tr style=\"text-align: right;\">\n",
              "      <th></th>\n",
              "      <th>Model</th>\n",
              "      <th>Accuracy</th>\n",
              "      <th>Precision</th>\n",
              "      <th>Recall</th>\n",
              "      <th>F1 Score</th>\n",
              "      <th>ROC AUC Score</th>\n",
              "    </tr>\n",
              "  </thead>\n",
              "  <tbody>\n",
              "    <tr>\n",
              "      <th>0</th>\n",
              "      <td>DecisionTreeClassifier</td>\n",
              "      <td>0.984765</td>\n",
              "      <td>0.977205</td>\n",
              "      <td>0.992687</td>\n",
              "      <td>0.984885</td>\n",
              "      <td>0.984765</td>\n",
              "    </tr>\n",
              "    <tr>\n",
              "      <th>1</th>\n",
              "      <td>RandomForestClassifier</td>\n",
              "      <td>0.993297</td>\n",
              "      <td>0.997134</td>\n",
              "      <td>0.989437</td>\n",
              "      <td>0.993271</td>\n",
              "      <td>0.993297</td>\n",
              "    </tr>\n",
              "    <tr>\n",
              "      <th>2</th>\n",
              "      <td>GradientBoostingClassifier</td>\n",
              "      <td>0.972984</td>\n",
              "      <td>0.985408</td>\n",
              "      <td>0.960187</td>\n",
              "      <td>0.972634</td>\n",
              "      <td>0.972984</td>\n",
              "    </tr>\n",
              "    <tr>\n",
              "      <th>3</th>\n",
              "      <td>XGBClassifier</td>\n",
              "      <td>0.994820</td>\n",
              "      <td>0.995122</td>\n",
              "      <td>0.994516</td>\n",
              "      <td>0.994819</td>\n",
              "      <td>0.994820</td>\n",
              "    </tr>\n",
              "  </tbody>\n",
              "</table>\n",
              "</div>"
            ],
            "text/plain": [
              "                        Model  Accuracy  Precision    Recall  F1 Score  \\\n",
              "0      DecisionTreeClassifier  0.984765   0.977205  0.992687  0.984885   \n",
              "1      RandomForestClassifier  0.993297   0.997134  0.989437  0.993271   \n",
              "2  GradientBoostingClassifier  0.972984   0.985408  0.960187  0.972634   \n",
              "3               XGBClassifier  0.994820   0.995122  0.994516  0.994819   \n",
              "\n",
              "   ROC AUC Score  \n",
              "0       0.984765  \n",
              "1       0.993297  \n",
              "2       0.972984  \n",
              "3       0.994820  "
            ]
          },
          "execution_count": 110,
          "metadata": {},
          "output_type": "execute_result"
        }
      ],
      "source": [
        "import pandas as pd\n",
        "from sklearn.model_selection import train_test_split\n",
        "from sklearn.metrics import accuracy_score, precision_score, recall_score, f1_score, roc_auc_score\n",
        "from sklearn.tree import DecisionTreeClassifier\n",
        "from sklearn.ensemble import RandomForestClassifier, GradientBoostingClassifier\n",
        "from xgboost import XGBClassifier  # Import XGBoost classifier\n",
        "\n",
        "# Define a function to evaluate a model and return a dictionary of metrics\n",
        "def evaluate_model(model, X_test, y_test):\n",
        "    # Calculate predictions\n",
        "    y_pred = model.predict(X_test)\n",
        "\n",
        "    # Compute metrics\n",
        "    accuracy = accuracy_score(y_test, y_pred)\n",
        "    precision = precision_score(y_test, y_pred)\n",
        "    recall = recall_score(y_test, y_pred)\n",
        "    f1 = f1_score(y_test, y_pred)\n",
        "    roc_auc = roc_auc_score(y_test, y_pred)\n",
        "\n",
        "    # Return metrics as a dictionary\n",
        "    return {\n",
        "        'Model': type(model).__name__,\n",
        "        'Accuracy': accuracy,\n",
        "        'Precision': precision,\n",
        "        'Recall': recall,\n",
        "        'F1 Score': f1,\n",
        "        'ROC AUC Score': roc_auc\n",
        "    }\n",
        "\n",
        "# Split the balanced data into training and testing sets with a test size of 20%\n",
        "X_train, X_test, y_train, y_test = train_test_split(X_res, y_res, test_size=0.2, random_state=42, stratify=y_res)\n",
        "\n",
        "# Define models\n",
        "models = {\n",
        "    \"Decision Tree\": DecisionTreeClassifier(),\n",
        "    \"Random Forest\": RandomForestClassifier(),\n",
        "    \"Gradient Boosting\": GradientBoostingClassifier(),\n",
        "    \"XGBoost\": XGBClassifier(),  # Added XGBoost to the dictionary\n",
        "}\n",
        "\n",
        "# List to store evaluation results\n",
        "results = []\n",
        "\n",
        "# Model Training and Evaluation\n",
        "for model_name, model in models.items():\n",
        "    print(model_name + \":\")\n",
        "    model.fit(X_train, y_train)  # Assuming X_train, y_train are defined\n",
        "    metrics = evaluate_model(model, X_test, y_test)  # Assuming X_test, y_test are defined\n",
        "    results.append(metrics)\n",
        "\n",
        "# Create a DataFrame from the results\n",
        "df_results = pd.DataFrame(results)\n",
        "\n",
        "# Display the DataFrame\n",
        "df_results\n"
      ]
    },
    {
      "cell_type": "markdown",
      "metadata": {
        "id": "6HvsgGauu7oF"
      },
      "source": [
        "### Inference:\n",
        "          XGBoost has the highest F1 Score: 99% across all metrics. Hence, it is the best model ouf of the four models tested for UPI fraud detection."
      ]
    },
    {
      "cell_type": "markdown",
      "metadata": {
        "id": "Uf3T9gZWu7oG"
      },
      "source": [
        "## XGBoost is known for its high performance and effeciency, and this model demonstrates excellent results across all the metrics."
      ]
    },
    {
      "cell_type": "markdown",
      "metadata": {
        "id": "HZJqcjXIu7oG"
      },
      "source": [
        "### Hyper Parameter Tuning :  using RandomizedSearch"
      ]
    },
    {
      "cell_type": "code",
      "execution_count": 112,
      "metadata": {
        "id": "flFlhuVDu7oG"
      },
      "outputs": [],
      "source": [
        "# from sklearn.model_selection import GridSearchCV\n",
        "\n",
        "# # Define a narrower hyperparameter grid for each model\n",
        "# param_grid = {\n",
        "#     'Decision Tree': {'max_depth': [10, 20, 50],\n",
        "#                       'min_samples_split': [2, 5, 10]},\n",
        "#     'Random Forest': {'n_estimators': [50, 100, 200],\n",
        "#                       'max_depth': [10, 20],\n",
        "#                       'min_samples_split': [2, 5]},\n",
        "#     'Gradient Boosting': {'n_estimators': [50, 100],\n",
        "#                           'learning_rate': [0.05, 0.1],\n",
        "#                           'max_depth': [3, 5]},\n",
        "#     'XGBoost': {'n_estimators': [50, 100],\n",
        "#                 'learning_rate': [0.05, 0.1],\n",
        "#                 'max_depth': [3, 5]}\n",
        "# }\n",
        "\n",
        "# # Perform hyperparameter tuning for each model\n",
        "# best_params = {}\n",
        "# for model_name, model in models.items():\n",
        "#     grid_search = GridSearchCV(estimator=model,\n",
        "#                                param_grid=param_grid[model_name],\n",
        "#                                scoring='f1',\n",
        "#                                cv=5,\n",
        "#                                verbose=2)\n",
        "#     grid_search.fit(X_train, y_train)\n",
        "#     best_params[model_name] = grid_search.best_params_\n",
        "\n",
        "# # Print best hyperparameters for each model\n",
        "# for model_name, params in best_params.items():\n",
        "#     print(f\"Best hyperparameters for {model_name}: {params}\")\n",
        "\n"
      ]
    },
    {
      "cell_type": "markdown",
      "metadata": {
        "id": "sncNxisdu7oG"
      },
      "source": [
        "### Performance post hyperparameter tuning\n",
        "\n",
        "- Best hyperparameters for Decision Tree: {'max_depth': 50, 'min_samples_split': 10}\n",
        "- Best hyperparameters for Random Forest: {'max_depth': 20, 'min_samples_split': 5, 'n_estimators': 50}\n",
        "- Best hyperparameters for Gradient Boosting: {'learning_rate': 0.1, 'max_depth': 5, 'n_estimators': 100}\n",
        "- Best hyperparameters for XGBoost: {'learning_rate': 0.1, 'max_depth': 5, 'n_estimators': 100}\n"
      ]
    },
    {
      "cell_type": "code",
      "execution_count": 113,
      "metadata": {
        "colab": {
          "base_uri": "https://localhost:8080/",
          "height": 236
        },
        "id": "6yhgdojTu7oG",
        "outputId": "5a6961df-1bd8-42bd-9943-69e548b35664"
      },
      "outputs": [
        {
          "name": "stdout",
          "output_type": "stream",
          "text": [
            "Decision Tree:\n",
            "Random Forest:\n",
            "Gradient Boosting:\n",
            "XGBoost:\n"
          ]
        },
        {
          "data": {
            "text/html": [
              "<div>\n",
              "<style scoped>\n",
              "    .dataframe tbody tr th:only-of-type {\n",
              "        vertical-align: middle;\n",
              "    }\n",
              "\n",
              "    .dataframe tbody tr th {\n",
              "        vertical-align: top;\n",
              "    }\n",
              "\n",
              "    .dataframe thead th {\n",
              "        text-align: right;\n",
              "    }\n",
              "</style>\n",
              "<table border=\"1\" class=\"dataframe\">\n",
              "  <thead>\n",
              "    <tr style=\"text-align: right;\">\n",
              "      <th></th>\n",
              "      <th>Model</th>\n",
              "      <th>Accuracy</th>\n",
              "      <th>Precision</th>\n",
              "      <th>Recall</th>\n",
              "      <th>F1 Score</th>\n",
              "      <th>ROC AUC Score</th>\n",
              "    </tr>\n",
              "  </thead>\n",
              "  <tbody>\n",
              "    <tr>\n",
              "      <th>0</th>\n",
              "      <td>DecisionTreeClassifier</td>\n",
              "      <td>0.984461</td>\n",
              "      <td>0.977000</td>\n",
              "      <td>0.992281</td>\n",
              "      <td>0.984581</td>\n",
              "      <td>0.984461</td>\n",
              "    </tr>\n",
              "    <tr>\n",
              "      <th>1</th>\n",
              "      <td>RandomForestClassifier</td>\n",
              "      <td>0.984461</td>\n",
              "      <td>0.993789</td>\n",
              "      <td>0.975015</td>\n",
              "      <td>0.984313</td>\n",
              "      <td>0.984461</td>\n",
              "    </tr>\n",
              "    <tr>\n",
              "      <th>2</th>\n",
              "      <td>GradientBoostingClassifier</td>\n",
              "      <td>0.989844</td>\n",
              "      <td>0.989844</td>\n",
              "      <td>0.989844</td>\n",
              "      <td>0.989844</td>\n",
              "      <td>0.989844</td>\n",
              "    </tr>\n",
              "    <tr>\n",
              "      <th>3</th>\n",
              "      <td>XGBClassifier</td>\n",
              "      <td>0.990047</td>\n",
              "      <td>0.988855</td>\n",
              "      <td>0.991265</td>\n",
              "      <td>0.990059</td>\n",
              "      <td>0.990047</td>\n",
              "    </tr>\n",
              "  </tbody>\n",
              "</table>\n",
              "</div>"
            ],
            "text/plain": [
              "                        Model  Accuracy  Precision    Recall  F1 Score  \\\n",
              "0      DecisionTreeClassifier  0.984461   0.977000  0.992281  0.984581   \n",
              "1      RandomForestClassifier  0.984461   0.993789  0.975015  0.984313   \n",
              "2  GradientBoostingClassifier  0.989844   0.989844  0.989844  0.989844   \n",
              "3               XGBClassifier  0.990047   0.988855  0.991265  0.990059   \n",
              "\n",
              "   ROC AUC Score  \n",
              "0       0.984461  \n",
              "1       0.984461  \n",
              "2       0.989844  \n",
              "3       0.990047  "
            ]
          },
          "execution_count": 113,
          "metadata": {},
          "output_type": "execute_result"
        }
      ],
      "source": [
        "import pandas as pd\n",
        "from sklearn.model_selection import train_test_split\n",
        "from sklearn.metrics import accuracy_score, precision_score, recall_score, f1_score, roc_auc_score\n",
        "from sklearn.tree import DecisionTreeClassifier\n",
        "from sklearn.ensemble import RandomForestClassifier, GradientBoostingClassifier\n",
        "from xgboost import XGBClassifier  # Import XGBoost classifier\n",
        "\n",
        "# Define a function to evaluate a model and return a dictionary of metrics\n",
        "def evaluate_model(model, X_test, y_test):\n",
        "    # Calculate predictions\n",
        "    y_pred = model.predict(X_test)\n",
        "\n",
        "    # Compute metrics\n",
        "    accuracy = accuracy_score(y_test, y_pred)\n",
        "    precision = precision_score(y_test, y_pred)\n",
        "    recall = recall_score(y_test, y_pred)\n",
        "    f1 = f1_score(y_test, y_pred)\n",
        "    roc_auc = roc_auc_score(y_test, y_pred)\n",
        "\n",
        "    # Return metrics as a dictionary\n",
        "    return {\n",
        "        'Model': type(model).__name__,\n",
        "        'Accuracy': accuracy,\n",
        "        'Precision': precision,\n",
        "        'Recall': recall,\n",
        "        'F1 Score': f1,\n",
        "        'ROC AUC Score': roc_auc\n",
        "    }\n",
        "\n",
        "# Split the balanced data into training and testing sets with a test size of 20%\n",
        "X_train, X_test, y_train, y_test = train_test_split(X_res, y_res, test_size=0.2, random_state=42, stratify=y_res)\n",
        "\n",
        "# Define models with best hyperparameters\n",
        "models = {\n",
        "    \"Decision Tree\": DecisionTreeClassifier(max_depth=50, min_samples_split=10),\n",
        "    \"Random Forest\": RandomForestClassifier(max_depth=20, min_samples_split=5, n_estimators=50),\n",
        "    \"Gradient Boosting\": GradientBoostingClassifier(learning_rate=0.1, max_depth=5, n_estimators=100),\n",
        "    \"XGBoost\": XGBClassifier(learning_rate=0.1, max_depth=5, n_estimators=100)\n",
        "}\n",
        "\n",
        "# List to store evaluation results\n",
        "results = []\n",
        "\n",
        "# Model Training and Evaluation\n",
        "for model_name, model in models.items():\n",
        "    print(model_name + \":\")\n",
        "    model.fit(X_train, y_train)  # Assuming X_train, y_train are defined\n",
        "    metrics = evaluate_model(model, X_test, y_test)  # Assuming X_test, y_test are defined\n",
        "    results.append(metrics)\n",
        "\n",
        "# Create a DataFrame from the results\n",
        "df_results = pd.DataFrame(results)\n",
        "\n",
        "# Display the DataFrame\n",
        "df_results\n"
      ]
    },
    {
      "cell_type": "markdown",
      "metadata": {
        "id": "Wi1f8PJWu7oG"
      },
      "source": [
        "### Conclusion:\n"
      ]
    },
    {
      "cell_type": "code",
      "execution_count": 115,
      "metadata": {
        "colab": {
          "base_uri": "https://localhost:8080/",
          "height": 237
        },
        "id": "qftLQXhKu7oG",
        "outputId": "ada2b7d0-378a-40f7-990b-da092b95ebf8"
      },
      "outputs": [
        {
          "data": {
            "text/html": [
              "<style>#sk-container-id-1 {\n",
              "  /* Definition of color scheme common for light and dark mode */\n",
              "  --sklearn-color-text: black;\n",
              "  --sklearn-color-line: gray;\n",
              "  /* Definition of color scheme for unfitted estimators */\n",
              "  --sklearn-color-unfitted-level-0: #fff5e6;\n",
              "  --sklearn-color-unfitted-level-1: #f6e4d2;\n",
              "  --sklearn-color-unfitted-level-2: #ffe0b3;\n",
              "  --sklearn-color-unfitted-level-3: chocolate;\n",
              "  /* Definition of color scheme for fitted estimators */\n",
              "  --sklearn-color-fitted-level-0: #f0f8ff;\n",
              "  --sklearn-color-fitted-level-1: #d4ebff;\n",
              "  --sklearn-color-fitted-level-2: #b3dbfd;\n",
              "  --sklearn-color-fitted-level-3: cornflowerblue;\n",
              "\n",
              "  /* Specific color for light theme */\n",
              "  --sklearn-color-text-on-default-background: var(--sg-text-color, var(--theme-code-foreground, var(--jp-content-font-color1, black)));\n",
              "  --sklearn-color-background: var(--sg-background-color, var(--theme-background, var(--jp-layout-color0, white)));\n",
              "  --sklearn-color-border-box: var(--sg-text-color, var(--theme-code-foreground, var(--jp-content-font-color1, black)));\n",
              "  --sklearn-color-icon: #696969;\n",
              "\n",
              "  @media (prefers-color-scheme: dark) {\n",
              "    /* Redefinition of color scheme for dark theme */\n",
              "    --sklearn-color-text-on-default-background: var(--sg-text-color, var(--theme-code-foreground, var(--jp-content-font-color1, white)));\n",
              "    --sklearn-color-background: var(--sg-background-color, var(--theme-background, var(--jp-layout-color0, #111)));\n",
              "    --sklearn-color-border-box: var(--sg-text-color, var(--theme-code-foreground, var(--jp-content-font-color1, white)));\n",
              "    --sklearn-color-icon: #878787;\n",
              "  }\n",
              "}\n",
              "\n",
              "#sk-container-id-1 {\n",
              "  color: var(--sklearn-color-text);\n",
              "}\n",
              "\n",
              "#sk-container-id-1 pre {\n",
              "  padding: 0;\n",
              "}\n",
              "\n",
              "#sk-container-id-1 input.sk-hidden--visually {\n",
              "  border: 0;\n",
              "  clip: rect(1px 1px 1px 1px);\n",
              "  clip: rect(1px, 1px, 1px, 1px);\n",
              "  height: 1px;\n",
              "  margin: -1px;\n",
              "  overflow: hidden;\n",
              "  padding: 0;\n",
              "  position: absolute;\n",
              "  width: 1px;\n",
              "}\n",
              "\n",
              "#sk-container-id-1 div.sk-dashed-wrapped {\n",
              "  border: 1px dashed var(--sklearn-color-line);\n",
              "  margin: 0 0.4em 0.5em 0.4em;\n",
              "  box-sizing: border-box;\n",
              "  padding-bottom: 0.4em;\n",
              "  background-color: var(--sklearn-color-background);\n",
              "}\n",
              "\n",
              "#sk-container-id-1 div.sk-container {\n",
              "  /* jupyter's `normalize.less` sets `[hidden] { display: none; }`\n",
              "     but bootstrap.min.css set `[hidden] { display: none !important; }`\n",
              "     so we also need the `!important` here to be able to override the\n",
              "     default hidden behavior on the sphinx rendered scikit-learn.org.\n",
              "     See: https://github.com/scikit-learn/scikit-learn/issues/21755 */\n",
              "  display: inline-block !important;\n",
              "  position: relative;\n",
              "}\n",
              "\n",
              "#sk-container-id-1 div.sk-text-repr-fallback {\n",
              "  display: none;\n",
              "}\n",
              "\n",
              "div.sk-parallel-item,\n",
              "div.sk-serial,\n",
              "div.sk-item {\n",
              "  /* draw centered vertical line to link estimators */\n",
              "  background-image: linear-gradient(var(--sklearn-color-text-on-default-background), var(--sklearn-color-text-on-default-background));\n",
              "  background-size: 2px 100%;\n",
              "  background-repeat: no-repeat;\n",
              "  background-position: center center;\n",
              "}\n",
              "\n",
              "/* Parallel-specific style estimator block */\n",
              "\n",
              "#sk-container-id-1 div.sk-parallel-item::after {\n",
              "  content: \"\";\n",
              "  width: 100%;\n",
              "  border-bottom: 2px solid var(--sklearn-color-text-on-default-background);\n",
              "  flex-grow: 1;\n",
              "}\n",
              "\n",
              "#sk-container-id-1 div.sk-parallel {\n",
              "  display: flex;\n",
              "  align-items: stretch;\n",
              "  justify-content: center;\n",
              "  background-color: var(--sklearn-color-background);\n",
              "  position: relative;\n",
              "}\n",
              "\n",
              "#sk-container-id-1 div.sk-parallel-item {\n",
              "  display: flex;\n",
              "  flex-direction: column;\n",
              "}\n",
              "\n",
              "#sk-container-id-1 div.sk-parallel-item:first-child::after {\n",
              "  align-self: flex-end;\n",
              "  width: 50%;\n",
              "}\n",
              "\n",
              "#sk-container-id-1 div.sk-parallel-item:last-child::after {\n",
              "  align-self: flex-start;\n",
              "  width: 50%;\n",
              "}\n",
              "\n",
              "#sk-container-id-1 div.sk-parallel-item:only-child::after {\n",
              "  width: 0;\n",
              "}\n",
              "\n",
              "/* Serial-specific style estimator block */\n",
              "\n",
              "#sk-container-id-1 div.sk-serial {\n",
              "  display: flex;\n",
              "  flex-direction: column;\n",
              "  align-items: center;\n",
              "  background-color: var(--sklearn-color-background);\n",
              "  padding-right: 1em;\n",
              "  padding-left: 1em;\n",
              "}\n",
              "\n",
              "\n",
              "/* Toggleable style: style used for estimator/Pipeline/ColumnTransformer box that is\n",
              "clickable and can be expanded/collapsed.\n",
              "- Pipeline and ColumnTransformer use this feature and define the default style\n",
              "- Estimators will overwrite some part of the style using the `sk-estimator` class\n",
              "*/\n",
              "\n",
              "/* Pipeline and ColumnTransformer style (default) */\n",
              "\n",
              "#sk-container-id-1 div.sk-toggleable {\n",
              "  /* Default theme specific background. It is overwritten whether we have a\n",
              "  specific estimator or a Pipeline/ColumnTransformer */\n",
              "  background-color: var(--sklearn-color-background);\n",
              "}\n",
              "\n",
              "/* Toggleable label */\n",
              "#sk-container-id-1 label.sk-toggleable__label {\n",
              "  cursor: pointer;\n",
              "  display: block;\n",
              "  width: 100%;\n",
              "  margin-bottom: 0;\n",
              "  padding: 0.5em;\n",
              "  box-sizing: border-box;\n",
              "  text-align: center;\n",
              "}\n",
              "\n",
              "#sk-container-id-1 label.sk-toggleable__label-arrow:before {\n",
              "  /* Arrow on the left of the label */\n",
              "  content: \"▸\";\n",
              "  float: left;\n",
              "  margin-right: 0.25em;\n",
              "  color: var(--sklearn-color-icon);\n",
              "}\n",
              "\n",
              "#sk-container-id-1 label.sk-toggleable__label-arrow:hover:before {\n",
              "  color: var(--sklearn-color-text);\n",
              "}\n",
              "\n",
              "/* Toggleable content - dropdown */\n",
              "\n",
              "#sk-container-id-1 div.sk-toggleable__content {\n",
              "  max-height: 0;\n",
              "  max-width: 0;\n",
              "  overflow: hidden;\n",
              "  text-align: left;\n",
              "  /* unfitted */\n",
              "  background-color: var(--sklearn-color-unfitted-level-0);\n",
              "}\n",
              "\n",
              "#sk-container-id-1 div.sk-toggleable__content.fitted {\n",
              "  /* fitted */\n",
              "  background-color: var(--sklearn-color-fitted-level-0);\n",
              "}\n",
              "\n",
              "#sk-container-id-1 div.sk-toggleable__content pre {\n",
              "  margin: 0.2em;\n",
              "  border-radius: 0.25em;\n",
              "  color: var(--sklearn-color-text);\n",
              "  /* unfitted */\n",
              "  background-color: var(--sklearn-color-unfitted-level-0);\n",
              "}\n",
              "\n",
              "#sk-container-id-1 div.sk-toggleable__content.fitted pre {\n",
              "  /* unfitted */\n",
              "  background-color: var(--sklearn-color-fitted-level-0);\n",
              "}\n",
              "\n",
              "#sk-container-id-1 input.sk-toggleable__control:checked~div.sk-toggleable__content {\n",
              "  /* Expand drop-down */\n",
              "  max-height: 200px;\n",
              "  max-width: 100%;\n",
              "  overflow: auto;\n",
              "}\n",
              "\n",
              "#sk-container-id-1 input.sk-toggleable__control:checked~label.sk-toggleable__label-arrow:before {\n",
              "  content: \"▾\";\n",
              "}\n",
              "\n",
              "/* Pipeline/ColumnTransformer-specific style */\n",
              "\n",
              "#sk-container-id-1 div.sk-label input.sk-toggleable__control:checked~label.sk-toggleable__label {\n",
              "  color: var(--sklearn-color-text);\n",
              "  background-color: var(--sklearn-color-unfitted-level-2);\n",
              "}\n",
              "\n",
              "#sk-container-id-1 div.sk-label.fitted input.sk-toggleable__control:checked~label.sk-toggleable__label {\n",
              "  background-color: var(--sklearn-color-fitted-level-2);\n",
              "}\n",
              "\n",
              "/* Estimator-specific style */\n",
              "\n",
              "/* Colorize estimator box */\n",
              "#sk-container-id-1 div.sk-estimator input.sk-toggleable__control:checked~label.sk-toggleable__label {\n",
              "  /* unfitted */\n",
              "  background-color: var(--sklearn-color-unfitted-level-2);\n",
              "}\n",
              "\n",
              "#sk-container-id-1 div.sk-estimator.fitted input.sk-toggleable__control:checked~label.sk-toggleable__label {\n",
              "  /* fitted */\n",
              "  background-color: var(--sklearn-color-fitted-level-2);\n",
              "}\n",
              "\n",
              "#sk-container-id-1 div.sk-label label.sk-toggleable__label,\n",
              "#sk-container-id-1 div.sk-label label {\n",
              "  /* The background is the default theme color */\n",
              "  color: var(--sklearn-color-text-on-default-background);\n",
              "}\n",
              "\n",
              "/* On hover, darken the color of the background */\n",
              "#sk-container-id-1 div.sk-label:hover label.sk-toggleable__label {\n",
              "  color: var(--sklearn-color-text);\n",
              "  background-color: var(--sklearn-color-unfitted-level-2);\n",
              "}\n",
              "\n",
              "/* Label box, darken color on hover, fitted */\n",
              "#sk-container-id-1 div.sk-label.fitted:hover label.sk-toggleable__label.fitted {\n",
              "  color: var(--sklearn-color-text);\n",
              "  background-color: var(--sklearn-color-fitted-level-2);\n",
              "}\n",
              "\n",
              "/* Estimator label */\n",
              "\n",
              "#sk-container-id-1 div.sk-label label {\n",
              "  font-family: monospace;\n",
              "  font-weight: bold;\n",
              "  display: inline-block;\n",
              "  line-height: 1.2em;\n",
              "}\n",
              "\n",
              "#sk-container-id-1 div.sk-label-container {\n",
              "  text-align: center;\n",
              "}\n",
              "\n",
              "/* Estimator-specific */\n",
              "#sk-container-id-1 div.sk-estimator {\n",
              "  font-family: monospace;\n",
              "  border: 1px dotted var(--sklearn-color-border-box);\n",
              "  border-radius: 0.25em;\n",
              "  box-sizing: border-box;\n",
              "  margin-bottom: 0.5em;\n",
              "  /* unfitted */\n",
              "  background-color: var(--sklearn-color-unfitted-level-0);\n",
              "}\n",
              "\n",
              "#sk-container-id-1 div.sk-estimator.fitted {\n",
              "  /* fitted */\n",
              "  background-color: var(--sklearn-color-fitted-level-0);\n",
              "}\n",
              "\n",
              "/* on hover */\n",
              "#sk-container-id-1 div.sk-estimator:hover {\n",
              "  /* unfitted */\n",
              "  background-color: var(--sklearn-color-unfitted-level-2);\n",
              "}\n",
              "\n",
              "#sk-container-id-1 div.sk-estimator.fitted:hover {\n",
              "  /* fitted */\n",
              "  background-color: var(--sklearn-color-fitted-level-2);\n",
              "}\n",
              "\n",
              "/* Specification for estimator info (e.g. \"i\" and \"?\") */\n",
              "\n",
              "/* Common style for \"i\" and \"?\" */\n",
              "\n",
              ".sk-estimator-doc-link,\n",
              "a:link.sk-estimator-doc-link,\n",
              "a:visited.sk-estimator-doc-link {\n",
              "  float: right;\n",
              "  font-size: smaller;\n",
              "  line-height: 1em;\n",
              "  font-family: monospace;\n",
              "  background-color: var(--sklearn-color-background);\n",
              "  border-radius: 1em;\n",
              "  height: 1em;\n",
              "  width: 1em;\n",
              "  text-decoration: none !important;\n",
              "  margin-left: 1ex;\n",
              "  /* unfitted */\n",
              "  border: var(--sklearn-color-unfitted-level-1) 1pt solid;\n",
              "  color: var(--sklearn-color-unfitted-level-1);\n",
              "}\n",
              "\n",
              ".sk-estimator-doc-link.fitted,\n",
              "a:link.sk-estimator-doc-link.fitted,\n",
              "a:visited.sk-estimator-doc-link.fitted {\n",
              "  /* fitted */\n",
              "  border: var(--sklearn-color-fitted-level-1) 1pt solid;\n",
              "  color: var(--sklearn-color-fitted-level-1);\n",
              "}\n",
              "\n",
              "/* On hover */\n",
              "div.sk-estimator:hover .sk-estimator-doc-link:hover,\n",
              ".sk-estimator-doc-link:hover,\n",
              "div.sk-label-container:hover .sk-estimator-doc-link:hover,\n",
              ".sk-estimator-doc-link:hover {\n",
              "  /* unfitted */\n",
              "  background-color: var(--sklearn-color-unfitted-level-3);\n",
              "  color: var(--sklearn-color-background);\n",
              "  text-decoration: none;\n",
              "}\n",
              "\n",
              "div.sk-estimator.fitted:hover .sk-estimator-doc-link.fitted:hover,\n",
              ".sk-estimator-doc-link.fitted:hover,\n",
              "div.sk-label-container:hover .sk-estimator-doc-link.fitted:hover,\n",
              ".sk-estimator-doc-link.fitted:hover {\n",
              "  /* fitted */\n",
              "  background-color: var(--sklearn-color-fitted-level-3);\n",
              "  color: var(--sklearn-color-background);\n",
              "  text-decoration: none;\n",
              "}\n",
              "\n",
              "/* Span, style for the box shown on hovering the info icon */\n",
              ".sk-estimator-doc-link span {\n",
              "  display: none;\n",
              "  z-index: 9999;\n",
              "  position: relative;\n",
              "  font-weight: normal;\n",
              "  right: .2ex;\n",
              "  padding: .5ex;\n",
              "  margin: .5ex;\n",
              "  width: min-content;\n",
              "  min-width: 20ex;\n",
              "  max-width: 50ex;\n",
              "  color: var(--sklearn-color-text);\n",
              "  box-shadow: 2pt 2pt 4pt #999;\n",
              "  /* unfitted */\n",
              "  background: var(--sklearn-color-unfitted-level-0);\n",
              "  border: .5pt solid var(--sklearn-color-unfitted-level-3);\n",
              "}\n",
              "\n",
              ".sk-estimator-doc-link.fitted span {\n",
              "  /* fitted */\n",
              "  background: var(--sklearn-color-fitted-level-0);\n",
              "  border: var(--sklearn-color-fitted-level-3);\n",
              "}\n",
              "\n",
              ".sk-estimator-doc-link:hover span {\n",
              "  display: block;\n",
              "}\n",
              "\n",
              "/* \"?\"-specific style due to the `<a>` HTML tag */\n",
              "\n",
              "#sk-container-id-1 a.estimator_doc_link {\n",
              "  float: right;\n",
              "  font-size: 1rem;\n",
              "  line-height: 1em;\n",
              "  font-family: monospace;\n",
              "  background-color: var(--sklearn-color-background);\n",
              "  border-radius: 1rem;\n",
              "  height: 1rem;\n",
              "  width: 1rem;\n",
              "  text-decoration: none;\n",
              "  /* unfitted */\n",
              "  color: var(--sklearn-color-unfitted-level-1);\n",
              "  border: var(--sklearn-color-unfitted-level-1) 1pt solid;\n",
              "}\n",
              "\n",
              "#sk-container-id-1 a.estimator_doc_link.fitted {\n",
              "  /* fitted */\n",
              "  border: var(--sklearn-color-fitted-level-1) 1pt solid;\n",
              "  color: var(--sklearn-color-fitted-level-1);\n",
              "}\n",
              "\n",
              "/* On hover */\n",
              "#sk-container-id-1 a.estimator_doc_link:hover {\n",
              "  /* unfitted */\n",
              "  background-color: var(--sklearn-color-unfitted-level-3);\n",
              "  color: var(--sklearn-color-background);\n",
              "  text-decoration: none;\n",
              "}\n",
              "\n",
              "#sk-container-id-1 a.estimator_doc_link.fitted:hover {\n",
              "  /* fitted */\n",
              "  background-color: var(--sklearn-color-fitted-level-3);\n",
              "}\n",
              "</style><div id=\"sk-container-id-1\" class=\"sk-top-container\"><div class=\"sk-text-repr-fallback\"><pre>XGBClassifier(base_score=None, booster=None, callbacks=None,\n",
              "              colsample_bylevel=None, colsample_bynode=None,\n",
              "              colsample_bytree=None, device=None, early_stopping_rounds=None,\n",
              "              enable_categorical=False, eval_metric=None, feature_types=None,\n",
              "              gamma=None, grow_policy=None, importance_type=None,\n",
              "              interaction_constraints=None, learning_rate=0.1, max_bin=None,\n",
              "              max_cat_threshold=None, max_cat_to_onehot=None,\n",
              "              max_delta_step=None, max_depth=5, max_leaves=None,\n",
              "              min_child_weight=None, missing=nan, monotone_constraints=None,\n",
              "              multi_strategy=None, n_estimators=100, n_jobs=None,\n",
              "              num_parallel_tree=None, random_state=None, ...)</pre><b>In a Jupyter environment, please rerun this cell to show the HTML representation or trust the notebook. <br />On GitHub, the HTML representation is unable to render, please try loading this page with nbviewer.org.</b></div><div class=\"sk-container\" hidden><div class=\"sk-item\"><div class=\"sk-estimator fitted sk-toggleable\"><input class=\"sk-toggleable__control sk-hidden--visually\" id=\"sk-estimator-id-1\" type=\"checkbox\" checked><label for=\"sk-estimator-id-1\" class=\"sk-toggleable__label fitted sk-toggleable__label-arrow fitted\">&nbsp;XGBClassifier<span class=\"sk-estimator-doc-link fitted\">i<span>Fitted</span></span></label><div class=\"sk-toggleable__content fitted\"><pre>XGBClassifier(base_score=None, booster=None, callbacks=None,\n",
              "              colsample_bylevel=None, colsample_bynode=None,\n",
              "              colsample_bytree=None, device=None, early_stopping_rounds=None,\n",
              "              enable_categorical=False, eval_metric=None, feature_types=None,\n",
              "              gamma=None, grow_policy=None, importance_type=None,\n",
              "              interaction_constraints=None, learning_rate=0.1, max_bin=None,\n",
              "              max_cat_threshold=None, max_cat_to_onehot=None,\n",
              "              max_delta_step=None, max_depth=5, max_leaves=None,\n",
              "              min_child_weight=None, missing=nan, monotone_constraints=None,\n",
              "              multi_strategy=None, n_estimators=100, n_jobs=None,\n",
              "              num_parallel_tree=None, random_state=None, ...)</pre></div> </div></div></div></div>"
            ],
            "text/plain": [
              "XGBClassifier(base_score=None, booster=None, callbacks=None,\n",
              "              colsample_bylevel=None, colsample_bynode=None,\n",
              "              colsample_bytree=None, device=None, early_stopping_rounds=None,\n",
              "              enable_categorical=False, eval_metric=None, feature_types=None,\n",
              "              gamma=None, grow_policy=None, importance_type=None,\n",
              "              interaction_constraints=None, learning_rate=0.1, max_bin=None,\n",
              "              max_cat_threshold=None, max_cat_to_onehot=None,\n",
              "              max_delta_step=None, max_depth=5, max_leaves=None,\n",
              "              min_child_weight=None, missing=nan, monotone_constraints=None,\n",
              "              multi_strategy=None, n_estimators=100, n_jobs=None,\n",
              "              num_parallel_tree=None, random_state=None, ...)"
            ]
          },
          "execution_count": 115,
          "metadata": {},
          "output_type": "execute_result"
        }
      ],
      "source": [
        "# Import XGBClassifier from xgboost\n",
        "from xgboost import XGBClassifier\n",
        "\n",
        "# Initialize and train the XGBoost classifier on the entire dataset\n",
        "XGBoost_model = XGBClassifier(learning_rate=0.1, max_depth=5, n_estimators=100)\n",
        "XGBoost_model.fit(X_res, y_res)"
      ]
    },
    {
      "cell_type": "code",
      "execution_count": 116,
      "metadata": {
        "id": "Fptk1C7zu7oG"
      },
      "outputs": [],
      "source": [
        "import pickle\n",
        "\n",
        "# File path for saving the pickle file\n",
        "pickle_file_path = \"UPI Fraud Detection updated.pkl\"\n",
        "\n",
        "# Save the trained XGBoost model to a pickle file\n",
        "with open(pickle_file_path, 'wb') as file:\n",
        "    pickle.dump(XGBoost_model, file)\n"
      ]
    },
    {
      "cell_type": "markdown",
      "metadata": {
        "id": "2tA4luvpu7oH"
      },
      "source": [
        "## Project Conclusion\n",
        "\n",
        "Throughout this project, we evaluated the performance of four distinct machine learning models for fraud detection in financial transactions: Decision Tree, Random Forest, Gradient Boosting, and XGBoost.\n",
        "\n",
        "After a comprehensive analysis, it is evident that the XGBoost model outperforms the other models in terms of accuracy, precision, recall, F1-score, and ROC AUC score. Despite the rigorous hyperparameter tuning performed on all models, XGBoost consistently demonstrated superior predictive capabilities, making it the most suitable choice for detecting fraudulent transactions in this context.\n",
        "\n",
        "By saving the trained XGBoost model as a pickle file, we ensure its accessibility and deployment for real-time fraud detection tasks. This model can serve as a valuable tool in financial institutions, enabling them to proactively identify and prevent fraudulent activities, thereby safeguarding both businesses and customers from potential financial losses."
      ]
    },
    {
      "cell_type": "markdown",
      "metadata": {
        "id": "n3aq8Efyu7oH"
      },
      "source": [
        "### Recommendations to the business for fraud detection and prevention\n",
        "\n",
        "1. **Enhance Transaction Monitoring**: Implement real-time transaction monitoring systems to promptly identify and flag suspicious activities, leveraging insights from transaction types, amounts, and frequency patterns identified during exploratory data analysis.\n",
        "\n",
        "2. **Platform-specific Security Measures**: Collaborate with platform providers such as ICICI, HDFC, and GooglePay to strengthen security measures, including multi-factor authentication, transaction verification, and fraud detection algorithms tailored to platform-specific vulnerabilities.\n",
        "\n",
        "3. **Merchant Category Vigilance**: Introduce targeted fraud detection measures for high-risk merchant categories like home delivery services, travel bookings, and utility payments, including enhanced transaction verification and risk-based authentication protocols.\n",
        "\n",
        "4. **Focus on Moderate Transaction Values**: Allocate resources to monitor transactions within the moderate value range of 250 to 750 units, where fraudulent activities are more prevalent, to improve detection rates and minimize losses.\n",
        "\n",
        "5. **Geographic-based Risk Assessment**: Develop regional risk profiles based on geographic patterns identified, focusing resources and fraud prevention initiatives in states such as Himachal Pradesh, Rajasthan, Meghalaya, and Bihar to mitigate localized fraud risks.\n",
        "\n",
        "6. **Operating System Security**: Collaborate with Android OS developers to address security vulnerabilities and enhance fraud prevention measures, ensuring robust security protocols for Android-based UPI applications and platforms.\n",
        "\n",
        "7. **Continuous Monitoring and Adaptation**: Establish mechanisms for continuous monitoring and adaptation of fraud detection strategies, leveraging machine learning algorithms and advanced analytics to detect evolving fraud patterns and tactics.\n",
        "\n",
        "8. **Regular Security Audits**: Conduct regular security audits and risk assessments to identify and address potential vulnerabilities, ensuring compliance with industry standards and regulations for secure UPI transactions.\n",
        "\n",
        "9. **User Awareness and Education**: Educate users about common fraud schemes, phishing attacks, and security best practices to empower them to recognize and report suspicious activities, fostering a collaborative approach to fraud prevention.\n",
        "\n",
        "10. **Collaboration and Information Sharing**: Foster collaboration and information sharing among industry stakeholders, financial institutions, law enforcement agencies, and regulatory bodies to combat fraud collectively and effectively.\n",
        "\n",
        "By implementing these recommendations, businesses can strengthen their UPI fraud detection and prevention strategies, mitigate risks, safeguard customer assets, and uphold trust and integrity in digital payment ecosystems."
      ]
    }
  ],
  "metadata": {
    "accelerator": "GPU",
    "colab": {
      "gpuType": "T4",
      "provenance": []
    },
    "kernelspec": {
      "display_name": "Python 3",
      "name": "python3"
    },
    "language_info": {
      "codemirror_mode": {
        "name": "ipython",
        "version": 3
      },
      "file_extension": ".py",
      "mimetype": "text/x-python",
      "name": "python",
      "nbconvert_exporter": "python",
      "pygments_lexer": "ipython3",
      "version": "3.12.0"
    }
  },
  "nbformat": 4,
  "nbformat_minor": 0
}
